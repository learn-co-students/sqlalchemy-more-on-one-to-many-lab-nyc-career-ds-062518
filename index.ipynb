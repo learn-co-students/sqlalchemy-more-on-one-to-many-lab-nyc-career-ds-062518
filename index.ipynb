{
 "cells": [
  {
   "cell_type": "markdown",
   "metadata": {},
   "source": [
    "# Web Scraping"
   ]
  },
  {
   "cell_type": "markdown",
   "metadata": {},
   "source": [
    "### Introduction\n",
    "\n",
    "The web is full of great datasets, but not all of them are readily available for download and analysis.\n",
    "Today we'll take a look at how you can surf the web robotically, saving the relevant information into storage containers as you go!\n",
    "\n",
    "We'll be taking a look at two main packages:\n",
    "* Beautiful Soup\n",
    "* Pandas\n",
    "\n",
    "Our general approach will be:\n",
    "* pick a domain/set of web pages to scrape\n",
    "* investigate those web pages using the developers tools from your web browser (such as Chrome or Firefox)\n",
    "* write rules to select the relevant objects from the DOM\n",
    "* parse information from those objects and store it in a container"
   ]
  },
  {
   "cell_type": "code",
   "execution_count": 1,
   "metadata": {},
   "outputs": [],
   "source": [
    "from bs4 import BeautifulSoup\n",
    "import requests\n",
    "import re\n",
    "import pandas as pd"
   ]
  },
  {
   "cell_type": "markdown",
   "metadata": {},
   "source": [
    "### Web Page Introduction: **The DOM + HTML**"
   ]
  },
  {
   "cell_type": "markdown",
   "metadata": {},
   "source": [
    "Before we start scraping, having a little background about how web pages are formatted is very helpful.\n",
    "\n",
    "\"The Document Object Model (DOM) is a programming interface for HTML and XML documents. It represents the page so that programs can change the document structure, style, and content. The DOM represents the document as nodes and objects. That way, programming languages can connect to the page.\" Amongst other things, this allows programming languages such as javascript to interactively change the page and HTML!  \n",
    "\n",
    "** What you'll see is the DOM and HTML create a hierarchy of elements. This structure and the underlying elements can be naviagated similar to a family tree which is one of Beautiful Soups main mechanisms for naviagation; once you select a specific element within a page you can then navigate to successive elements using methods such as sibling, parent or descendents.**  \n",
    "  \n",
    "To learn more about the DOM see:  \n",
    "https://developer.mozilla.org/en-US/docs/Web/API/Document_Object_Model/Introduction"
   ]
  },
  {
   "cell_type": "markdown",
   "metadata": {},
   "source": [
    "![](./images/DOM-model.svg.png)"
   ]
  },
  {
   "cell_type": "markdown",
   "metadata": {},
   "source": [
    "### Beautiful Soup   \n",
    "https://www.crummy.com/software/BeautifulSoup/bs4/doc/   \n",
    "\n",
    "Beautiful Soup is a Python library designed for quick turnaround projects like screen-scraping. Three features make it powerful:\n",
    "\n",
    "* Beautiful Soup provides a few simple methods and Pythonic idioms for navigating, searching, and modifying a parse tree: a toolkit for dissecting a document and extracting what you need. It doesn't take much code to write an application\n",
    "\n",
    "* Beautiful Soup automatically converts incoming documents to Unicode and outgoing documents to UTF-8. You don't have to think about encodings, unless the document doesn't specify an encoding and Beautiful Soup can't detect one. Then you just have to specify the original encoding.\n",
    "\n",
    "* Beautiful Soup sits on top of popular Python parsers like lxml and html5lib, allowing you to try out different parsing strategies or trade speed for flexibility.\n",
    "\n",
    "Beautiful Soup parses anything you give it, and does the tree traversal stuff for you. You can tell it \"Find all the links\", or \"Find all the links of class externalLink\", or \"Find all the links whose urls match \"foo.com\", or \"Find the table heading that's got bold text, then give me that text.\""
   ]
  },
  {
   "cell_type": "markdown",
   "metadata": {},
   "source": [
    "### An example webpage"
   ]
  },
  {
   "cell_type": "code",
   "execution_count": 2,
   "metadata": {},
   "outputs": [
    {
     "name": "stdout",
     "output_type": "stream",
     "text": [
      "<html>\n",
      " <head>\n",
      "  <title>\n",
      "   The Dormouse's story\n",
      "  </title>\n",
      " </head>\n",
      " <body>\n",
      "  <p class=\"title\">\n",
      "   <b>\n",
      "    The Dormouse's story\n",
      "   </b>\n",
      "  </p>\n",
      "  <p class=\"story\">\n",
      "   Once upon a time there were three little sisters; and their names were\n",
      "   <a class=\"sister\" href=\"http://example.com/elsie\" id=\"link1\">\n",
      "    Elsie\n",
      "   </a>\n",
      "   ,\n",
      "   <a class=\"sister\" href=\"http://example.com/lacie\" id=\"link2\">\n",
      "    Lacie\n",
      "   </a>\n",
      "   and\n",
      "   <a class=\"sister\" href=\"http://example.com/tillie\" id=\"link2\">\n",
      "    Tillie\n",
      "   </a>\n",
      "   ; and they lived at the bottom of a well.\n",
      "  </p>\n",
      "  <p class=\"story\">\n",
      "   ...\n",
      "  </p>\n",
      " </body>\n",
      "</html>\n"
     ]
    }
   ],
   "source": [
    "with open('sample_page.html') as f:\n",
    "    soup = BeautifulSoup(f, 'html.parser')\n",
    "print(soup.prettify())"
   ]
  },
  {
   "cell_type": "markdown",
   "metadata": {},
   "source": [
    "#### A few introductory Beautiful Soup Selections..."
   ]
  },
  {
   "cell_type": "code",
   "execution_count": 3,
   "metadata": {},
   "outputs": [
    {
     "name": "stdout",
     "output_type": "stream",
     "text": [
      "<title>\n",
      "    The Dormouse's story\n",
      "   </title>\n",
      "title\n",
      "\n",
      "    The Dormouse's story\n",
      "   \n",
      "head\n",
      "<p class=\"title\">\n",
      "<b>\n",
      "     The Dormouse's story\n",
      "    </b>\n",
      "</p>\n",
      "['title']\n",
      "<a class=\"sister\" href=\"http://example.com/elsie\" id=\"link1\">\n",
      "     Elsie\n",
      "    </a>\n",
      "[<a class=\"sister\" href=\"http://example.com/elsie\" id=\"link1\">\n",
      "     Elsie\n",
      "    </a>, <a class=\"sister\" href=\"http://example.com/lacie\" id=\"link2\">\n",
      "     Lacie\n",
      "    </a>, <a class=\"sister\" href=\"http://example.com/tillie\" id=\"link2\">\n",
      "     Tillie\n",
      "    </a>]\n",
      "None\n"
     ]
    }
   ],
   "source": [
    "print(soup.title)\n",
    "# <title>The Dormouse's story</title>\n",
    "\n",
    "print(soup.title.name)\n",
    "# u'title'\n",
    "\n",
    "print(soup.title.string)\n",
    "# u'The Dormouse's story'\n",
    "\n",
    "print(soup.title.parent.name)\n",
    "# u'head'\n",
    "\n",
    "print(soup.p)\n",
    "# <p class=\"title\"><b>The Dormouse's story</b></p>\n",
    "\n",
    "print(soup.p['class'])\n",
    "# u'title'\n",
    "\n",
    "print(soup.a)\n",
    "# <a class=\"sister\" href=\"http://example.com/elsie\" id=\"link1\">Elsie</a>\n",
    "\n",
    "print(soup.find_all('a'))\n",
    "# [<a class=\"sister\" href=\"http://example.com/elsie\" id=\"link1\">Elsie</a>,\n",
    "#  <a class=\"sister\" href=\"http://example.com/lacie\" id=\"link2\">Lacie</a>,\n",
    "#  <a class=\"sister\" href=\"http://example.com/tillie\" id=\"link3\">Tillie</a>]\n",
    "\n",
    "print(soup.find(id=\"link3\"))\n",
    "# <a class=\"sister\" href=\"http://example.com/tillie\" id=\"link3\">Tillie</a>"
   ]
  },
  {
   "cell_type": "markdown",
   "metadata": {},
   "source": [
    "### Grabbing a Web Page"
   ]
  },
  {
   "cell_type": "code",
   "execution_count": 4,
   "metadata": {},
   "outputs": [],
   "source": [
    "html_page = requests.get('https://www.azlyrics.com/') #Make a get request to retrieve the page\n",
    "soup = BeautifulSoup(html_page.content, 'html.parser') #Pass the page contents to beautiful soup for parsing"
   ]
  },
  {
   "cell_type": "code",
   "execution_count": 5,
   "metadata": {},
   "outputs": [
    {
     "name": "stdout",
     "output_type": "stream",
     "text": [
      "<!DOCTYPE html>\n",
      "<html lang=\"en\">\n",
      " <head>\n",
      "  <meta charset=\"utf-8\"/>\n",
      "  <meta content=\"IE=edge\" http-equiv=\"X-UA-Compatible\"/>\n",
      "  <meta content=\"width=device-width, initial-scale=1\" name=\"viewport\"/>\n",
      "  <meta content=\"noarchive\" name=\"robots\"/>\n",
      "  <meta content=\"AZLyrics\" name=\"name\"/>\n",
      "  <meta content=\"lyrics,music,song lyrics,songs,paroles\" name=\"keywords\"/>\n",
      "  <base href=\"//www.azlyrics.com\"/>\n",
      "  <script src=\"//www.azlyrics.com/external.js\" type=\"text/javascript\">\n",
      "  </script>\n",
      "  <title>\n",
      "   AZLyrics - Song Lyrics from A to Z\n",
      "  </title>\n",
      "  <link href=\"https://maxcdn.bootstrapcdn.com/bootstrap/3.3.4/css/bootstrap.min.css\" rel=\"stylesheet\"/>\n",
      "  <link href=\"//www.azlyrics.com/bsaz.css\" rel=\"stylesheet\"/>\n",
      "  <!-- HTML5 shim and Respond.js for IE8 support of HTML5 elements and media queries -->\n",
      "  <!--[if lt IE 9]>\r\n",
      "      <script src=\"https://oss.maxcdn.com/html5shiv/3.7.2/html5shiv.min.js\"></script>\r\n",
      "      <script src=\"https://oss.maxcdn.com/respond/1.4.2/respond.min.js\"></script>\r\n",
      "    <![endif]-->\n",
      "  <\n"
     ]
    }
   ],
   "source": [
    "#Preview the soup....MMMMMM SOUP :)\n",
    "print(soup.prettify()[:1000])"
   ]
  },
  {
   "cell_type": "markdown",
   "metadata": {},
   "source": [
    "### Inspecting the Web Page for Relevant Elements"
   ]
  },
  {
   "cell_type": "markdown",
   "metadata": {},
   "source": [
    "Here's the page itself:\n",
    "\n",
    "![](./images/home_page.png)"
   ]
  },
  {
   "cell_type": "markdown",
   "metadata": {},
   "source": [
    "### Parsing the DOM"
   ]
  },
  {
   "cell_type": "markdown",
   "metadata": {},
   "source": [
    "### soup.findAll()"
   ]
  },
  {
   "cell_type": "markdown",
   "metadata": {},
   "source": [
    "One common method we'll be use to navigate through the web page to extract information of interest is the soup.findAll() method.\n",
    "\n",
    "**Here's the docstring which you can bring up by typing (soup.findAll? [shift+enter])**  \n",
    "\n",
    "soup.findAll(name=None, attrs={}, recursive=True, text=None, limit=None, **kwargs)  \n",
    "\n",
    "Docstring:\n",
    "Extracts a list of Tag objects that match the given\n",
    "criteria.  You can specify the name of the Tag and any\n",
    "attributes you want the Tag to have.   \n",
    "\n",
    "The value of a key-value pair in the 'attrs' map can be a\n",
    "string, a list of strings, a regular expression object, or a\n",
    "callable that takes a string and returns whether or not the\n",
    "string matches for some custom definition of 'matches'. The\n",
    "same is true of the tag name."
   ]
  },
  {
   "cell_type": "code",
   "execution_count": 6,
   "metadata": {},
   "outputs": [
    {
     "data": {
      "text/plain": [
       "[<a class=\"btn btn-menu\" href=\"//www.azlyrics.com/y.html\">Y</a>,\n",
       " <a class=\"btn btn-menu\" href=\"//www.azlyrics.com/z.html\">Z</a>,\n",
       " <a class=\"btn btn-menu\" href=\"//www.azlyrics.com/19.html\">#</a>,\n",
       " <a href=\"/a/amyshark.html#56189\"><img alt=\"\" src=\"/hot/56189.jpg\"/></a>,\n",
       " <a href=\"/a/amyshark.html#56189\">Amy Shark</a>,\n",
       " <a href=\"/b/burytomorrow.html#56198\"><img alt=\"\" src=\"/hot/56198.jpg\"/></a>,\n",
       " <a href=\"/b/burytomorrow.html#56198\">Bury Tomorrow</a>,\n",
       " <a href=\"/v/vamps.html#56657\"><img alt=\"\" src=\"/hot/56657.jpg\"/></a>,\n",
       " <a href=\"/v/vamps.html#56657\">The Vamps</a>,\n",
       " <a href=\"/w/wizkhalifa.html#59561\"><img alt=\"\" src=\"/hot/59561.jpg\"/></a>]"
      ]
     },
     "execution_count": 6,
     "metadata": {},
     "output_type": "execute_result"
    }
   ],
   "source": [
    "#Get all the hyperlinks on a page\n",
    "links = soup.findAll('a')\n",
    "links[25:35]"
   ]
  },
  {
   "cell_type": "markdown",
   "metadata": {},
   "source": [
    "### Lets pull one of the link pages and see what we can get!  \n",
    "**Notice that these are relative links that all refer to pages and subdirectories within the azlyrics domain.**  \n",
    "We'll have to be sure to account for this when pulling successive pages."
   ]
  },
  {
   "cell_type": "code",
   "execution_count": 7,
   "metadata": {},
   "outputs": [
    {
     "name": "stdout",
     "output_type": "stream",
     "text": [
      "<!DOCTYPE html>\n",
      "<html lang=\"en\">\n",
      " <head>\n",
      "  <meta charset=\"utf-8\"/>\n",
      "  <meta content=\"IE=edge\" http-equiv=\"X-UA-Compatible\"/>\n",
      "  <meta content=\"width=device-width, initial-scale=1\" name=\"viewport\"/>\n",
      "  <!-- The above 3 meta tags *must* come first in the head; any other head content must come *after* these tags -->\n",
      "  <meta content='Wiz Khalifa lyrics - 466 song lyrics sorted by album, including \"See You Again\", \"Fr Fr\", \"Rolling Papers 2\".' name=\"description\"/>\n",
      "  <meta content=\"Wiz Khalifa, Wiz Khalifa lyrics, discography, albums, songs\" name=\"keywords\"/>\n",
      "  <meta content=\"noarchive\" name=\"robots\"/>\n",
      "  <title>\n",
      "   Wiz Khalifa Lyrics\n",
      "  </title>\n",
      "  <link href=\"https://maxcdn.bootstrapcdn.com/bootstrap/3.3.4/css/bootstrap.min.css\" rel=\"stylesheet\"/>\n",
      "  <link href=\"//www.azlyrics.com/bsaz.css\" rel=\"stylesheet\"/>\n",
      "  <!-- HTML5 shim and Respond.js for IE8 support of HTML5 elements and media queries -->\n",
      "  <!--[if lt IE 9]>\r\n",
      "<script src=\"https://oss.maxcdn.com/html5shiv/3.7.2/html5shiv.min.js\"></script>\r\n"
     ]
    }
   ],
   "source": [
    "link = links[35]\n",
    "url_base = 'https://www.azlyrics.com/'\n",
    "url_ext = link.get('href')\n",
    "html_page = requests.get(url_base + url_ext)\n",
    "soup = BeautifulSoup(html_page.content, 'html.parser')\n",
    "print(soup.prettify()[:1000])"
   ]
  },
  {
   "cell_type": "markdown",
   "metadata": {},
   "source": [
    "### More parsing!\n",
    "Here's what the page looks like in a web browser:\n",
    "\n",
    "![](./images/artist_page.png)\n",
    "\n",
    "Now let's retrieve a list of the song pages as well as their assosciated albums!"
   ]
  },
  {
   "cell_type": "markdown",
   "metadata": {},
   "source": [
    "### Pulling out the Album Headers\n",
    "\n",
    "![](./images/artist_inspect.png)\n",
    "We want something more specific so let's look at the page itself.  \n",
    "Right click (windows)/ option + click (mac) on one of the album titles and go to **inspect**.  \n",
    "\n",
    "You should see something like this:\n",
    "![](./images/artist_inspect_detailed.png)\n",
    "\n",
    "Look at the details for the album header:  \n",
    "  \n",
    "  \n",
    "![](./images/inspect_div_detailed.png)\n",
    "It's a div container called 'album'! Let's use this to select the various albums from the page."
   ]
  },
  {
   "cell_type": "code",
   "execution_count": 8,
   "metadata": {},
   "outputs": [
    {
     "name": "stdout",
     "output_type": "stream",
     "text": [
      "Number of matches: 24\n",
      "Object type: <class 'bs4.element.ResultSet'>\n",
      "Preview of objects:\n",
      "[<div class=\"album\">album: <b>\"Show And Prove\"</b> (2006)</div>, <div class=\"album\">mixtape: <b>\"Prince Of The City 2\"</b> (2008)</div>]\n"
     ]
    }
   ],
   "source": [
    "albums = soup.find_all(\"div\", class_=\"album\")\n",
    "print('Number of matches: {}'.format(len(albums)))\n",
    "print('Object type: {}'.format(type(albums)))\n",
    "print('Preview of objects:\\n{}'.format(albums[:2]))"
   ]
  },
  {
   "cell_type": "markdown",
   "metadata": {},
   "source": [
    "### Navigating the DOM Hierarchy\n",
    "![](./images/artist_song_inspect.png)\n",
    "Notice that under each of these album DIVs there are links for each of the songs.  \n",
    "These links aren't children of the div object in the page's structure (they could be but that's not how this website structured them.) Instead, they are siblings to the div element."
   ]
  },
  {
   "cell_type": "markdown",
   "metadata": {},
   "source": [
    "### Pulling out the Song Titles and Pages\n",
    "Let's start by taking a look at all of the hyperlinked siblings of the first album we found."
   ]
  },
  {
   "cell_type": "code",
   "execution_count": 9,
   "metadata": {},
   "outputs": [
    {
     "data": {
      "text/plain": [
       "[<a href=\"../lyrics/wizkhalifa/pittsburghsoundallinmyblood.html\" target=\"_blank\">Pittsburgh Sound (All In My Blood)</a>,\n",
       " <a href=\"../lyrics/wizkhalifa/boutmine.html\" target=\"_blank\">Bout Mine</a>,\n",
       " <a href=\"../lyrics/wizkhalifa/ichooseyou.html\" target=\"_blank\">I Choose You</a>,\n",
       " <a href=\"../lyrics/wizkhalifa/damnthing.html\" target=\"_blank\">Damn Thing</a>,\n",
       " <a href=\"../lyrics/wizkhalifa/keeptheconversation.html\" target=\"_blank\">Keep The Conversation</a>,\n",
       " <a href=\"../lyrics/wizkhalifa/stayinyourlane.html\" target=\"_blank\">Stay In Your Lane</a>,\n",
       " <a href=\"../lyrics/wizkhalifa/standup.html\" target=\"_blank\">Stand Up</a>,\n",
       " <a href=\"../lyrics/wizkhalifa/imgonnaride.html\" target=\"_blank\">I'm Gonna Ride</a>,\n",
       " <a href=\"../lyrics/wizkhalifa/letemknow.html\" target=\"_blank\">Let Em Know</a>,\n",
       " <a href=\"../lyrics/wizkhalifa/sometimes.html\" target=\"_blank\">Sometimes</a>,\n",
       " <a href=\"../lyrics/wizkhalifa/historyinthemaking.html\" target=\"_blank\">History In The Making</a>,\n",
       " <a href=\"../lyrics/wizkhalifa/nevertoolate.html\" target=\"_blank\">Never Too Late</a>,\n",
       " <a id=\"20199\"></a>,\n",
       " <a href=\"../lyrics/wizkhalifa/gotdamnloveit.html\" target=\"_blank\">Got Damn Love It</a>,\n",
       " <a href=\"../lyrics/wizkhalifa/goonhate.html\" target=\"_blank\">Go On Hate</a>,\n",
       " <a href=\"../lyrics/wizkhalifa/shouldifeelbad.html\" target=\"_blank\">Should I Feel Bad</a>,\n",
       " <a href=\"../lyrics/wizkhalifa/gettinit.html\" target=\"_blank\">Gettin It</a>,\n",
       " <a href=\"../lyrics/wizkhalifa/beeasy.html\" target=\"_blank\">Be Easy</a>,\n",
       " <a href=\"../lyrics/wizkhalifa/poppinrubberbands.html\" target=\"_blank\">Poppin Rubberbands</a>,\n",
       " <a href=\"../lyrics/wizkhalifa/headtothesky.html\" target=\"_blank\">Head To The Sky</a>,\n",
       " <a href=\"../lyrics/wizkhalifa/gottagetit.html\" target=\"_blank\">Gotta Get It</a>,\n",
       " <a href=\"../lyrics/wizkhalifa/talktoya.html\" target=\"_blank\">Talk To Ya</a>,\n",
       " <a href=\"../lyrics/wizkhalifa/chewyremix.html\" target=\"_blank\">Chewy (Remix)</a>,\n",
       " <a href=\"../lyrics/wizkhalifa/gone.html\" target=\"_blank\">Gone</a>,\n",
       " <a href=\"../lyrics/wizkhalifa/bussdown.html\" target=\"_blank\">Buss Down</a>,\n",
       " <a href=\"../lyrics/wizkhalifa/smokingood.html\" target=\"_blank\">Smokin Good</a>,\n",
       " <a href=\"../lyrics/wizkhalifa/whoiam222382.html\" target=\"_blank\">Who I Am</a>,\n",
       " <a href=\"../lyrics/wizkhalifa/timegoesby.html\" target=\"_blank\">Time Goes By</a>,\n",
       " <a href=\"../lyrics/wizkhalifa/istillremember.html\" target=\"_blank\">I Still Remember</a>,\n",
       " <a id=\"9344\"></a>,\n",
       " <a href=\"../lyrics/wizkhalifa/boardingpass.html\" target=\"_blank\">Boarding Pass</a>,\n",
       " <a href=\"../lyrics/wizkhalifa/msrightfernow.html\" target=\"_blank\">Ms. Rightfernow</a>,\n",
       " <a href=\"../lyrics/wizkhalifa/shame.html\" target=\"_blank\">Shame</a>,\n",
       " <a href=\"../lyrics/wizkhalifa/starstruckremix.html\" target=\"_blank\">Starstruck (Remix)</a>,\n",
       " <a href=\"../lyrics/wizkhalifa/dreamer.html\" target=\"_blank\">Dreamer</a>,\n",
       " <a href=\"../lyrics/wizkhalifa/getsum.html\" target=\"_blank\">Get Sum</a>,\n",
       " <a href=\"../lyrics/wizkhalifa/material.html\" target=\"_blank\">Material</a>,\n",
       " <a href=\"../lyrics/wizkhalifa/teachyoutofly.html\" target=\"_blank\">Teach You To Fly</a>,\n",
       " <a href=\"../lyrics/wizkhalifa/imgood.html\" target=\"_blank\">I'm Good</a>,\n",
       " <a href=\"../lyrics/wizkhalifa/nameonacloud.html\" target=\"_blank\">Name On A Cloud</a>,\n",
       " <a href=\"../lyrics/wizkhalifa/wassup.html\" target=\"_blank\">Wassup</a>,\n",
       " <a href=\"../lyrics/wizkhalifa/kleenex.html\" target=\"_blank\">Kleenex</a>,\n",
       " <a href=\"../lyrics/wizkhalifa/neverever.html\" target=\"_blank\">Never Ever</a>,\n",
       " <a href=\"../lyrics/wizkhalifa/soulmate.html\" target=\"_blank\">Soulmate</a>,\n",
       " <a href=\"../lyrics/wizkhalifa/superstar123983.html\" target=\"_blank\">Superstar</a>,\n",
       " <a href=\"../lyrics/wizkhalifa/heartsoul.html\" target=\"_blank\">Heart &amp; Soul</a>,\n",
       " <a href=\"../lyrics/wizkhalifa/takeaway.html\" target=\"_blank\">Take Away</a>,\n",
       " <a href=\"../lyrics/wizkhalifa/skyhigh.html\" target=\"_blank\">Sky High</a>,\n",
       " <a href=\"../lyrics/wizkhalifa/hollywoodhoes.html\" target=\"_blank\">Hollywood Hoes</a>,\n",
       " <a href=\"../lyrics/wizkhalifa/extracredit.html\" target=\"_blank\">Extra Credit</a>,\n",
       " <a href=\"../lyrics/wizkhalifa/extraextracredit.html\" target=\"_blank\">Extra Extra Credit</a>,\n",
       " <a id=\"20200\"></a>,\n",
       " <a href=\"../lyrics/wizkhalifa/imastar.html\" target=\"_blank\">I'm A Star</a>,\n",
       " <a href=\"../lyrics/wizkhalifa/feelsgood.html\" target=\"_blank\">Feels Good</a>,\n",
       " <a href=\"../lyrics/wizkhalifa/herofreestyle.html\" target=\"_blank\">Hero Freestyle</a>,\n",
       " <a href=\"../lyrics/wizkhalifa/lowridinfreestyle.html\" target=\"_blank\">Low Ridin' Freestyle</a>,\n",
       " <a href=\"../lyrics/wizkhalifa/bankroll.html\" target=\"_blank\">Bankroll</a>,\n",
       " <a href=\"../lyrics/wizkhalifa/changeup.html\" target=\"_blank\">Change Up</a>,\n",
       " <a href=\"../lyrics/wizkhalifa/pwppussyweedpatron.html\" target=\"_blank\">P.W.P. (Pussy, Weed &amp; Patron)</a>,\n",
       " <a href=\"../lyrics/wizkhalifa/dopeboysfreestyle.html\" target=\"_blank\">Dope Boys Freestyle</a>,\n",
       " <a href=\"../lyrics/wizkhalifa/sohigh.html\" target=\"_blank\">So High</a>,\n",
       " <a href=\"../lyrics/wizkhalifa/popbottles.html\" target=\"_blank\">Pop Bottles</a>,\n",
       " <a href=\"../lyrics/wizkhalifa/weedroller.html\" target=\"_blank\">Weed Roller</a>,\n",
       " <a href=\"../lyrics/wizkhalifa/starpower.html\" target=\"_blank\">Star Power</a>,\n",
       " <a href=\"../lyrics/wizkhalifa/inkmywholebody.html\" target=\"_blank\">Ink My Whole Body</a>,\n",
       " <a href=\"../lyrics/wizkhalifa/likeastar.html\" target=\"_blank\">Like A Star</a>,\n",
       " <a href=\"../lyrics/wizkhalifa/takearide.html\" target=\"_blank\">Take A Ride</a>,\n",
       " <a href=\"../lyrics/wizkhalifa/flickinashes.html\" target=\"_blank\">Flickin' Ashes</a>,\n",
       " <a id=\"9348\"></a>,\n",
       " <a href=\"../lyrics/wizkhalifa/barburnafterrolling.html\" target=\"_blank\">B.A.R. (Burn After Rolling)</a>,\n",
       " <a href=\"../lyrics/wizkhalifa/takeyobitch.html\" target=\"_blank\">Take Yo Bitch</a>,\n",
       " <a href=\"../lyrics/wizkhalifa/thethrill.html\" target=\"_blank\">The Thrill</a>,\n",
       " <a href=\"../lyrics/wizkhalifa/oneway.html\" target=\"_blank\">One Way</a>,\n",
       " <a href=\"../lyrics/wizkhalifa/miles.html\" target=\"_blank\">Miles</a>,\n",
       " <a href=\"../lyrics/wizkhalifa/ifiwerealame.html\" target=\"_blank\">If I Were A Lame</a>,\n",
       " <a href=\"../lyrics/wizkhalifa/meetnewpeople.html\" target=\"_blank\">Meet New People</a>,\n",
       " <a href=\"../lyrics/wizkhalifa/weekend.html\" target=\"_blank\">Weekend</a>,\n",
       " <a href=\"../lyrics/wizkhalifa/youngkhalifa.html\" target=\"_blank\">Young Khalifa</a>,\n",
       " <a href=\"../lyrics/wizkhalifa/knockudown.html\" target=\"_blank\">Knock U Down</a>,\n",
       " <a href=\"../lyrics/wizkhalifa/hellokittyonthapill.html\" target=\"_blank\">Hello Kitty (On Tha Pill)</a>,\n",
       " <a href=\"../lyrics/wizkhalifa/whenufind.html\" target=\"_blank\">When U Find</a>,\n",
       " <a href=\"../lyrics/wizkhalifa/mafiamusicremix.html\" target=\"_blank\">Mafia Music (Remix)</a>,\n",
       " <a href=\"../lyrics/wizkhalifa/sayuwill.html\" target=\"_blank\">Say U Will</a>,\n",
       " <a href=\"../lyrics/wizkhalifa/wontland.html\" target=\"_blank\">Won't Land</a>,\n",
       " <a href=\"../lyrics/wizkhalifa/odetonakedpopstars.html\" target=\"_blank\">Ode To Naked Pop Stars</a>,\n",
       " <a href=\"../lyrics/wizkhalifa/allmylifefreestyle.html\" target=\"_blank\">All My Life Freestyle</a>,\n",
       " <a href=\"../lyrics/wizkhalifa/greattobethereoutro.html\" target=\"_blank\">Great To Be There (Outro)</a>,\n",
       " <a id=\"9346\"></a>,\n",
       " <a href=\"../lyrics/wizkhalifa/chewy.html\" target=\"_blank\">Chewy</a>,\n",
       " <a href=\"../lyrics/wizkhalifa/friendly.html\" target=\"_blank\">Friendly</a>,\n",
       " <a href=\"../lyrics/wizkhalifa/goodbye.html\" target=\"_blank\">Goodbye</a>,\n",
       " <a href=\"../lyrics/wizkhalifa/hitthaflo.html\" target=\"_blank\">Hit Tha Flo</a>,\n",
       " <a href=\"../lyrics/wizkhalifa/losecontrol.html\" target=\"_blank\">Lose Control</a>,\n",
       " <a href=\"../lyrics/wizkhalifa/moolatheguap.html\" target=\"_blank\">Moola &amp; The Guap</a>,\n",
       " <a href=\"../lyrics/wizkhalifa/studiolovin.html\" target=\"_blank\">Studio Lovin'</a>,\n",
       " <a href=\"../lyrics/wizkhalifa/righthere.html\" target=\"_blank\">Right Here</a>,\n",
       " <a href=\"../lyrics/wizkhalifa/redcarpetlikeamovie.html\" target=\"_blank\">Red Carpet (Like A Movie)</a>,\n",
       " <a href=\"../lyrics/wizkhalifa/superstar.html\" target=\"_blank\">Superstar</a>,\n",
       " <a href=\"../lyrics/wizkhalifa/takeaway.html\" target=\"_blank\">Take Away</a>,\n",
       " <a href=\"../lyrics/wizkhalifa/thisplane.html\" target=\"_blank\">This Plane</a>,\n",
       " <a href=\"../lyrics/wizkhalifa/whoiam.html\" target=\"_blank\">Who I Am</a>,\n",
       " <a href=\"../lyrics/wizkhalifa/youngboytalk.html\" target=\"_blank\">Young Boy Talk</a>,\n",
       " <a id=\"9580\"></a>,\n",
       " <a href=\"../lyrics/wizkhalifa/wakenbaken.html\" target=\"_blank\">Waken Baken</a>,\n",
       " <a href=\"../lyrics/wizkhalifa/mezmorized.html\" target=\"_blank\">Mezmorized</a>,\n",
       " <a href=\"../lyrics/wizkhalifa/weredone.html\" target=\"_blank\">We're Done</a>,\n",
       " <a href=\"../lyrics/wizkhalifa/skit1.html\" target=\"_blank\">Skit 1</a>,\n",
       " <a href=\"../lyrics/wizkhalifa/thestatement.html\" target=\"_blank\">The Statement</a>,\n",
       " <a href=\"../lyrics/wizkhalifa/spotlight.html\" target=\"_blank\">Spotlight</a>,\n",
       " <a href=\"../lyrics/wizkhalifa/skit2.html\" target=\"_blank\">Skit 2</a>,\n",
       " <a href=\"../lyrics/wizkhalifa/thekidfrankie.html\" target=\"_blank\">The Kid Frankie</a>,\n",
       " <a href=\"../lyrics/wizkhalifa/up.html\" target=\"_blank\">Up</a>,\n",
       " <a href=\"../lyrics/wizkhalifa/neverbeen.html\" target=\"_blank\">Never Been</a>,\n",
       " <a href=\"../lyrics/wizkhalifa/inthacut.html\" target=\"_blank\">In Tha Cut</a>,\n",
       " <a href=\"../lyrics/wizkhalifa/visions.html\" target=\"_blank\">Visions</a>,\n",
       " <a href=\"../lyrics/wizkhalifa/stillblazin.html\" target=\"_blank\">Still Blazin</a>,\n",
       " <a href=\"../lyrics/wizkhalifa/slimskit.html\" target=\"_blank\">Slim Skit</a>,\n",
       " <a href=\"../lyrics/wizkhalifa/pedaltothemedal.html\" target=\"_blank\">Pedal To The Medal</a>,\n",
       " <a href=\"../lyrics/wizkhalifa/gooddank.html\" target=\"_blank\">Good Dank</a>,\n",
       " <a href=\"../lyrics/wizkhalifa/skit3.html\" target=\"_blank\">Skit 3</a>,\n",
       " <a href=\"../lyrics/wizkhalifa/glasshouse.html\" target=\"_blank\">Glass House</a>,\n",
       " <a href=\"../lyrics/wizkhalifa/outro.html\" target=\"_blank\">Outro</a>,\n",
       " <a href=\"../lyrics/wizkhalifa/supply.html\" target=\"_blank\">Supply</a>,\n",
       " <a id=\"20201\"></a>,\n",
       " <a href=\"../lyrics/wizkhalifa/familiar.html\" target=\"_blank\">Familiar</a>,\n",
       " <a href=\"../lyrics/wizkhalifa/goodlife.html\" target=\"_blank\">Good Life</a>,\n",
       " <a href=\"../lyrics/wizkhalifa/realestate.html\" target=\"_blank\">Real Estate</a>,\n",
       " <a href=\"../lyrics/wizkhalifa/fuckthemoney.html\" target=\"_blank\">Fuck The Money</a>,\n",
       " <a href=\"../lyrics/wizkhalifa/stuntin.html\" target=\"_blank\">Stuntin'</a>,\n",
       " <a href=\"../lyrics/wizkhalifa/up222397.html\" target=\"_blank\">Up</a>,\n",
       " <a href=\"../lyrics/wizkhalifa/staroftheshow222398.html\" target=\"_blank\">Star Of The Show</a>,\n",
       " <a href=\"../lyrics/wizkhalifa/badguy.html\" target=\"_blank\">Bad Guy</a>,\n",
       " <a href=\"../lyrics/wizkhalifa/inmycarthapuffbus.html\" target=\"_blank\">In My Car (Tha Puff Bus)</a>,\n",
       " <a href=\"../lyrics/wizkhalifa/hueynewton.html\" target=\"_blank\">Huey Newton</a>,\n",
       " <a href=\"../lyrics/wizkhalifa/blackandyellow222402.html\" target=\"_blank\">Black And Yellow</a>,\n",
       " <a id=\"14131\"></a>,\n",
       " <a href=\"../lyrics/wizkhalifa/phonenumbers.html\" target=\"_blank\">Phone Numbers</a>,\n",
       " <a href=\"../lyrics/wizkhalifa/cabinfever.html\" target=\"_blank\">Cabin Fever</a>,\n",
       " <a href=\"../lyrics/wizkhalifa/gangbang.html\" target=\"_blank\">GangBang</a>,\n",
       " <a href=\"../lyrics/wizkhalifa/errday.html\" target=\"_blank\">Errday</a>,\n",
       " <a href=\"../lyrics/wizkhalifa/taylorgang.html\" target=\"_blank\">Taylor Gang</a>,\n",
       " <a href=\"../lyrics/wizkhalifa/hustlin.html\" target=\"_blank\">Hustlin'</a>,\n",
       " <a href=\"../lyrics/wizkhalifa/middleofyou.html\" target=\"_blank\">Middle Of You</a>,\n",
       " <a href=\"../lyrics/wizkhalifa/wtf.html\" target=\"_blank\">WTF</a>,\n",
       " <a href=\"../lyrics/wizkhalifa/homicide.html\" target=\"_blank\">Homicide</a>,\n",
       " <a id=\"13706\"></a>,\n",
       " <a href=\"../lyrics/wizkhalifa/whenimgone.html\" target=\"_blank\">When I'm Gone</a>,\n",
       " <a href=\"../lyrics/wizkhalifa/onmylevel.html\" target=\"_blank\">On My Level</a>,\n",
       " <a href=\"../lyrics/wizkhalifa/blackandyellow.html\" target=\"_blank\">Black And Yellow</a>,\n",
       " <a href=\"../lyrics/wizkhalifa/rollup.html\" target=\"_blank\">Roll Up</a>,\n",
       " <a href=\"../lyrics/wizkhalifa/hopesanddreams.html\" target=\"_blank\">Hopes And Dreams</a>,\n",
       " <a href=\"../lyrics/wizkhalifa/wakeup.html\" target=\"_blank\">Wake Up</a>,\n",
       " <a href=\"../lyrics/wizkhalifa/therace.html\" target=\"_blank\">The Race</a>,\n",
       " <a href=\"../lyrics/wizkhalifa/staroftheshow.html\" target=\"_blank\">Star Of The Show</a>,\n",
       " <a href=\"../lyrics/wizkhalifa/nosleep.html\" target=\"_blank\">No Sleep</a>,\n",
       " <a href=\"../lyrics/wizkhalifa/getyourshit.html\" target=\"_blank\">Get Your Shit</a>,\n",
       " <a href=\"../lyrics/wizkhalifa/topfloor.html\" target=\"_blank\">Top Floor</a>,\n",
       " <a href=\"../lyrics/wizkhalifa/flysolo.html\" target=\"_blank\">Fly Solo</a>,\n",
       " <a href=\"../lyrics/wizkhalifa/rooftops.html\" target=\"_blank\">Rooftops</a>,\n",
       " <a href=\"../lyrics/wizkhalifa/cameras.html\" target=\"_blank\">Cameras</a>,\n",
       " <a id=\"20189\"></a>,\n",
       " <a href=\"http://www.azlyrics.com/lyrics/snoopdogg/smokinon.html\" target=\"_blank\">Smokin' On</a>,\n",
       " <a href=\"http://www.azlyrics.com/lyrics/snoopdogg/igetlifted.html\" target=\"_blank\">I Get Lifted</a>,\n",
       " <a href=\"http://www.azlyrics.com/lyrics/snoopdogg/youcanputitinazagimmaputitinablunt.html\" target=\"_blank\">You Can Put It In A Zag, I'mma Put It In A Blunt</a>,\n",
       " <a href=\"http://www.azlyrics.com/lyrics/snoopdogg/630.html\" target=\"_blank\">6:30</a>,\n",
       " <a href=\"http://www.azlyrics.com/lyrics/snoopdogg/talentshow.html\" target=\"_blank\">Talent Show</a>,\n",
       " <a href=\"http://www.azlyrics.com/lyrics/snoopdogg/letsgostudy.html\" target=\"_blank\">Let's Go Study</a>,\n",
       " <a href=\"../lyrics/wizkhalifa/youngwildfree.html\" target=\"_blank\">Young, Wild &amp; Free</a>,\n",
       " <a href=\"http://www.azlyrics.com/lyrics/snoopdogg/og.html\" target=\"_blank\">OG</a>,\n",
       " <a href=\"http://www.azlyrics.com/lyrics/snoopdogg/frenchinhale.html\" target=\"_blank\">French Inhale</a>,\n",
       " <a href=\"http://www.azlyrics.com/lyrics/snoopdogg/itcouldbeeasy.html\" target=\"_blank\">It Could Be Easy</a>,\n",
       " <a href=\"http://www.azlyrics.com/lyrics/snoopdogg/worldclass.html\" target=\"_blank\">World Class</a>,\n",
       " <a href=\"http://www.azlyrics.com/lyrics/snoopdogg/thatgood.html\" target=\"_blank\">That Good</a>,\n",
       " <a href=\"http://www.azlyrics.com/lyrics/snoopdogg/highschool.html\" target=\"_blank\">High School</a>,\n",
       " <a href=\"http://www.azlyrics.com/lyrics/snoopdogg/devssong.html\" target=\"_blank\">Dev's Song</a>,\n",
       " <a id=\"22627\"></a>,\n",
       " <a href=\"../lyrics/wizkhalifa/amberice.html\" target=\"_blank\">Amber Ice</a>,\n",
       " <a href=\"../lyrics/wizkhalifa/california.html\" target=\"_blank\">California</a>,\n",
       " <a href=\"../lyrics/wizkhalifa/miawallace.html\" target=\"_blank\">Mia Wallace</a>,\n",
       " <a href=\"../lyrics/wizkhalifa/guiltyconscience.html\" target=\"_blank\">Guilty Conscience</a>,\n",
       " <a href=\"../lyrics/wizkhalifa/mary3x.html\" target=\"_blank\">Mary 3x</a>,\n",
       " <a href=\"../lyrics/wizkhalifa/onifc.html\" target=\"_blank\">O.N.I.F.C.</a>,\n",
       " <a href=\"../lyrics/wizkhalifa/nameless.html\" target=\"_blank\">Nameless</a>,\n",
       " <a href=\"../lyrics/wizkhalifa/neverbeenpartii.html\" target=\"_blank\">Never Been Part II</a>,\n",
       " <a href=\"../lyrics/wizkhalifa/thecruise.html\" target=\"_blank\">The Cruise</a>,\n",
       " <a href=\"../lyrics/wizkhalifa/rowland.html\" target=\"_blank\">Rowland</a>,\n",
       " <a href=\"../lyrics/wizkhalifa/myfavoritesong.html\" target=\"_blank\">My Favorite Song</a>,\n",
       " <a href=\"../lyrics/wizkhalifa/tap.html\" target=\"_blank\">T.A.P.</a>,\n",
       " <a href=\"../lyrics/wizkhalifa/thecode.html\" target=\"_blank\">The Code</a>,\n",
       " <a href=\"../lyrics/wizkhalifa/thegrinder.html\" target=\"_blank\">The Grinder</a>,\n",
       " <a href=\"../lyrics/wizkhalifa/brainstorm.html\" target=\"_blank\">Brainstorm</a>,\n",
       " <a href=\"../lyrics/wizkhalifa/number16.html\" target=\"_blank\">Number 16</a>,\n",
       " <a href=\"../lyrics/wizkhalifa/blindfolds.html\" target=\"_blank\">Blindfolds</a>,\n",
       " <a id=\"25003\"></a>,\n",
       " <a href=\"../lyrics/wizkhalifa/boutme.html\" target=\"_blank\">Bout Me</a>,\n",
       " <a href=\"../lyrics/wizkhalifa/fuccshit.html\" target=\"_blank\">Fucc Shit</a>,\n",
       " <a href=\"../lyrics/wizkhalifa/mia.html\" target=\"_blank\">MIA</a>,\n",
       " <a href=\"../lyrics/wizkhalifa/pacctalk.html\" target=\"_blank\">Pacc Talk</a>,\n",
       " <a href=\"../lyrics/wizkhalifa/ridinround.html\" target=\"_blank\">Ridin' Round</a>,\n",
       " <a href=\"../lyrics/wizkhalifa/smokindrinkin.html\" target=\"_blank\">Smokin' Drinkin'</a>,\n",
       " <a href=\"../lyrics/wizkhalifa/stusoturntup.html\" target=\"_blank\">S.T.U. (So Turnt Up)</a>,\n",
       " <a href=\"../lyrics/wizkhalifa/boutthat.html\" target=\"_blank\">Bout That</a>,\n",
       " <a href=\"../lyrics/wizkhalifa/imfeelin.html\" target=\"_blank\">I'm Feelin</a>,\n",
       " <a href=\"../lyrics/wizkhalifa/deepsleep.html\" target=\"_blank\">Deep Sleep</a>,\n",
       " <a href=\"../lyrics/wizkhalifa/100bottles.html\" target=\"_blank\">100 Bottles</a>,\n",
       " <a href=\"../lyrics/wizkhalifa/thuggin.html\" target=\"_blank\">Thuggin'</a>,\n",
       " <a href=\"../lyrics/wizkhalifa/tweakisheavy.html\" target=\"_blank\">Tweak Is Heavy</a>,\n",
       " <a href=\"../lyrics/wizkhalifa/nothinliketherest.html\" target=\"_blank\">Nothin' Like The Rest</a>,\n",
       " <a id=\"22981\"></a>,\n",
       " <a href=\"../lyrics/wizkhalifa/paperbond.html\" target=\"_blank\">Paperbond</a>,\n",
       " <a href=\"../lyrics/wizkhalifa/bluffin.html\" target=\"_blank\">Bluffin'</a>,\n",
       " <a href=\"../lyrics/wizkhalifa/letitgo.html\" target=\"_blank\">Let It Go</a>,\n",
       " <a href=\"../lyrics/wizkhalifa/thebluff.html\" target=\"_blank\">The Bluff</a>,\n",
       " <a href=\"../lyrics/wizkhalifa/workhardplayhard.html\" target=\"_blank\">Work Hard, Play Hard</a>,\n",
       " <a href=\"../lyrics/wizkhalifa/goteverything.html\" target=\"_blank\">Got Everything</a>,\n",
       " <a href=\"../lyrics/wizkhalifa/fallasleep.html\" target=\"_blank\">Fall Asleep</a>,\n",
       " <a href=\"../lyrics/wizkhalifa/time.html\" target=\"_blank\">Time</a>,\n",
       " <a href=\"../lyrics/wizkhalifa/itsnothin.html\" target=\"_blank\">It's Nothin'</a>,\n",
       " <a href=\"../lyrics/wizkhalifa/riseabove.html\" target=\"_blank\">Rise Above</a>,\n",
       " <a href=\"../lyrics/wizkhalifa/initiation.html\" target=\"_blank\">Initiation</a>,\n",
       " <a href=\"../lyrics/wizkhalifa/upinit.html\" target=\"_blank\">Up In It</a>,\n",
       " <a href=\"../lyrics/wizkhalifa/nolimit.html\" target=\"_blank\">No Limit</a>,\n",
       " <a href=\"../lyrics/wizkhalifa/theplan.html\" target=\"_blank\">The Plan</a>,\n",
       " <a href=\"../lyrics/wizkhalifa/rememberyou.html\" target=\"_blank\">Remember You</a>,\n",
       " <a href=\"../lyrics/wizkhalifa/medicated.html\" target=\"_blank\">Medicated</a>,\n",
       " <a id=\"32701\"></a>,\n",
       " <a href=\"../lyrics/wizkhalifa/awshit.html\" target=\"_blank\">Aw Shit</a>,\n",
       " <a href=\"../lyrics/wizkhalifa/maan.html\" target=\"_blank\">Maan</a>,\n",
       " <a href=\"../lyrics/wizkhalifa/letr.html\" target=\"_blank\">Let'R</a>,\n",
       " <a href=\"../lyrics/wizkhalifa/jamesbong.html\" target=\"_blank\">James Bong</a>,\n",
       " <a href=\"../lyrics/wizkhalifa/whatisshittin.html\" target=\"_blank\">What Iss Hittin</a>,\n",
       " <a href=\"../lyrics/wizkhalifa/pure.html\" target=\"_blank\">Pure</a>,\n",
       " <a href=\"../lyrics/wizkhalifa/getthatzipoff.html\" target=\"_blank\">Get That Zip Off</a>,\n",
       " <a href=\"../lyrics/wizkhalifa/foreign.html\" target=\"_blank\">Foreign</a>,\n",
       " <a href=\"../lyrics/wizkhalifa/incense.html\" target=\"_blank\">Incense</a>,\n",
       " <a href=\"../lyrics/wizkhalifa/likejimmy.html\" target=\"_blank\">Like Jimmy</a>,\n",
       " <a href=\"../lyrics/wizkhalifa/samo.html\" target=\"_blank\">Samo</a>,\n",
       " <a href=\"../lyrics/wizkhalifa/jimbrown.html\" target=\"_blank\">Jim Brown</a>,\n",
       " <a href=\"../lyrics/wizkhalifa/updown.html\" target=\"_blank\">Up Down</a>,\n",
       " <a href=\"../lyrics/wizkhalifa/ontheway.html\" target=\"_blank\">On The Way</a>,\n",
       " <a href=\"../lyrics/wizkhalifa/wordonthetown.html\" target=\"_blank\">Word On The Town</a>,\n",
       " <a href=\"../lyrics/wizkhalifa/onaplane.html\" target=\"_blank\">On A Plane</a>,\n",
       " <a href=\"../lyrics/wizkhalifa/banger.html\" target=\"_blank\">Banger</a>,\n",
       " <a href=\"../lyrics/wizkhalifa/combover.html\" target=\"_blank\">Comb Over</a>,\n",
       " <a href=\"../lyrics/wizkhalifa/thelast.html\" target=\"_blank\">The Last</a>,\n",
       " <a href=\"../lyrics/wizkhalifa/handlemybiz.html\" target=\"_blank\">Handle My Biz</a>,\n",
       " <a href=\"../lyrics/wizkhalifa/mynigs.html\" target=\"_blank\">My Nigs</a>,\n",
       " <a href=\"../lyrics/wizkhalifa/howtobereal.html\" target=\"_blank\">How To Be Real</a>,\n",
       " <a href=\"../lyrics/wizkhalifa/somethingspecial.html\" target=\"_blank\">Something Special</a>,\n",
       " <a href=\"../lyrics/wizkhalifa/ouy.html\" target=\"_blank\">OUY</a>,\n",
       " <a href=\"../lyrics/wizkhalifa/ogbobbytayloy.html\" target=\"_blank\">OG Bobby Tayloy</a>,\n",
       " <a href=\"../lyrics/wizkhalifa/wontstop.html\" target=\"_blank\">Wont Stop</a>,\n",
       " <a href=\"../lyrics/wizkhalifa/therain.html\" target=\"_blank\">The Rain</a>,\n",
       " <a href=\"../lyrics/wizkhalifa/differentsofast.html\" target=\"_blank\">Different So Fast</a>,\n",
       " <a id=\"31407\"></a>,\n",
       " <a href=\"../lyrics/wizkhalifa/hope.html\" target=\"_blank\">Hope</a>,\n",
       " <a href=\"../lyrics/wizkhalifa/wedemboyz.html\" target=\"_blank\">We Dem Boyz</a>,\n",
       " <a href=\"../lyrics/wizkhalifa/promises.html\" target=\"_blank\">Promises</a>,\n",
       " <a href=\"../lyrics/wizkhalifa/kk.html\" target=\"_blank\">KK</a>,\n",
       " <a href=\"../lyrics/wizkhalifa/houseinthehills.html\" target=\"_blank\">House In The Hills</a>,\n",
       " <a href=\"../lyrics/wizkhalifa/assdrop.html\" target=\"_blank\">Ass Drop</a>,\n",
       " <a href=\"../lyrics/wizkhalifa/raw.html\" target=\"_blank\">Raw</a>,\n",
       " <a href=\"../lyrics/wizkhalifa/stayinoutallnight.html\" target=\"_blank\">Stayin Out All Night</a>,\n",
       " <a href=\"../lyrics/wizkhalifa/thesleeze.html\" target=\"_blank\">The Sleeze</a>,\n",
       " <a href=\"../lyrics/wizkhalifa/sohigh371655.html\" target=\"_blank\">So High</a>,\n",
       " <a href=\"../lyrics/wizkhalifa/stilldown.html\" target=\"_blank\">Still Down</a>,\n",
       " <a href=\"../lyrics/wizkhalifa/nogain.html\" target=\"_blank\">No Gain</a>,\n",
       " <a href=\"../lyrics/wizkhalifa/truecolors.html\" target=\"_blank\">True Colors</a>,\n",
       " <a href=\"../lyrics/wizkhalifa/wedemboyzremix.html\" target=\"_blank\">We Dem Boyz (Remix)</a>,\n",
       " <a href=\"../lyrics/wizkhalifa/youandyourfriends.html\" target=\"_blank\">You And Your Friends</a>,\n",
       " <a href=\"../lyrics/wizkhalifa/onme.html\" target=\"_blank\">On Me</a>,\n",
       " <a id=\"38268\"></a>,\n",
       " <a href=\"../lyrics/wizkhalifa/judgeit.html\" target=\"_blank\">Judge It</a>,\n",
       " <a href=\"../lyrics/wizkhalifa/refresh.html\" target=\"_blank\">Refresh</a>,\n",
       " <a href=\"../lyrics/wizkhalifa/saynomore.html\" target=\"_blank\">Say No More</a>,\n",
       " <a href=\"../lyrics/wizkhalifa/postup.html\" target=\"_blank\">Post Up</a>,\n",
       " <a href=\"../lyrics/wizkhalifa/prettynights.html\" target=\"_blank\">Pretty Nights</a>,\n",
       " <a id=\"40568\"></a>,\n",
       " <a href=\"../lyrics/wizkhalifa/respect.html\" target=\"_blank\">Respect</a>,\n",
       " <a href=\"../lyrics/wizkhalifa/moveon.html\" target=\"_blank\">Move On</a>,\n",
       " <a href=\"../lyrics/wizkhalifa/prequel.html\" target=\"_blank\">Prequel</a>,\n",
       " <a href=\"../lyrics/wizkhalifa/foreignbitchesfreakdips.html\" target=\"_blank\">Foreign Bitches Freak Dips</a>,\n",
       " <a href=\"../lyrics/wizkhalifa/shitstarters.html\" target=\"_blank\">Shit Starters</a>,\n",
       " <a href=\"../lyrics/wizkhalifa/noworries.html\" target=\"_blank\">No Worries</a>,\n",
       " <a href=\"../lyrics/wizkhalifa/finishline.html\" target=\"_blank\">Finish Line</a>,\n",
       " <a href=\"../lyrics/wizkhalifa/callagain.html\" target=\"_blank\">Call Again</a>,\n",
       " <a href=\"../lyrics/wizkhalifa/gangster101.html\" target=\"_blank\">Gangster 101</a>,\n",
       " <a href=\"../lyrics/wizkhalifa/left.html\" target=\"_blank\">Left</a>,\n",
       " <a href=\"../lyrics/wizkhalifa/fuccday.html\" target=\"_blank\">Fucc Day</a>,\n",
       " <a id=\"41147\"></a>,\n",
       " <a href=\"../lyrics/wizkhalifa/bts.html\" target=\"_blank\">BTS</a>,\n",
       " <a href=\"../lyrics/wizkhalifa/celebrate.html\" target=\"_blank\">Celebrate</a>,\n",
       " <a href=\"../lyrics/wizkhalifa/elevated.html\" target=\"_blank\">Elevated</a>,\n",
       " <a href=\"../lyrics/wizkhalifa/cityview.html\" target=\"_blank\">City View</a>,\n",
       " <a href=\"../lyrics/wizkhalifa/cowboy.html\" target=\"_blank\">Cowboy</a>,\n",
       " <a href=\"../lyrics/wizkhalifa/bakesale.html\" target=\"_blank\">Bake Sale</a>,\n",
       " <a href=\"../lyrics/wizkhalifa/callwaiting.html\" target=\"_blank\">Call Waiting</a>,\n",
       " <a href=\"../lyrics/wizkhalifa/makeaplay.html\" target=\"_blank\">Make A Play</a>,\n",
       " <a href=\"../lyrics/wizkhalifa/mostofus.html\" target=\"_blank\">Most Of Us</a>,\n",
       " <a href=\"../lyrics/wizkhalifa/zoney.html\" target=\"_blank\">Zoney</a>,\n",
       " <a href=\"../lyrics/wizkhalifa/lit.html\" target=\"_blank\">Lit</a>,\n",
       " <a href=\"../lyrics/wizkhalifa/nopermission.html\" target=\"_blank\">No Permission</a>,\n",
       " <a href=\"../lyrics/wizkhalifa/isay.html\" target=\"_blank\">iSay</a>,\n",
       " <a id=\"43152\"></a>,\n",
       " <a href=\"http://www.azlyrics.com/lyrics/juicyj/tgodmafiaintro.html\" target=\"_blank\">TGOD Mafia Intro</a>,\n",
       " <a href=\"http://www.azlyrics.com/lyrics/juicyj/dapower.html\" target=\"_blank\">Da Power</a>,\n",
       " <a href=\"http://www.azlyrics.com/lyrics/juicyj/medication.html\" target=\"_blank\">Medication</a>,\n",
       " <a href=\"http://www.azlyrics.com/lyrics/juicyj/wherewasyou.html\" target=\"_blank\">Where Was You</a>,\n",
       " <a href=\"../lyrics/wizkhalifa/allnight.html\" target=\"_blank\">All Night</a>,\n",
       " <a href=\"http://www.azlyrics.com/lyrics/juicyj/iseeitiwantit.html\" target=\"_blank\">I See It I Want It</a>,\n",
       " <a href=\"http://www.azlyrics.com/lyrics/juicyj/hitmeup.html\" target=\"_blank\">Hit Me Up</a>,\n",
       " <a href=\"http://www.azlyrics.com/lyrics/juicyj/greensuicide.html\" target=\"_blank\">Green Suicide</a>,\n",
       " <a href=\"http://www.azlyrics.com/lyrics/juicyj/bossedup.html\" target=\"_blank\">Bossed Up</a>,\n",
       " <a href=\"http://www.azlyrics.com/lyrics/juicyj/sheinlove.html\" target=\"_blank\">She In Love</a>,\n",
       " <a href=\"http://www.azlyrics.com/lyrics/juicyj/breakingnews.html\" target=\"_blank\">Breaking News</a>,\n",
       " <a href=\"http://www.azlyrics.com/lyrics/juicyj/itself.html\" target=\"_blank\">Itself</a>,\n",
       " <a href=\"http://www.azlyrics.com/lyrics/juicyj/luxuryflow.html\" target=\"_blank\">Luxury Flow</a>,\n",
       " <a href=\"http://www.azlyrics.com/lyrics/juicyj/staythesame.html\" target=\"_blank\">Stay The Same</a>,\n",
       " <a href=\"http://www.azlyrics.com/lyrics/juicyj/ontheway.html\" target=\"_blank\">On The Way</a>,\n",
       " <a href=\"http://www.azlyrics.com/lyrics/juicyj/cellready.html\" target=\"_blank\">Cell Ready</a>,\n",
       " <a id=\"45406\"></a>,\n",
       " <a href=\"../lyrics/wizkhalifa/youngmillionaires.html\" target=\"_blank\">Young Millionaires</a>,\n",
       " <a href=\"../lyrics/wizkhalifa/speech.html\" target=\"_blank\">Speech</a>,\n",
       " <a href=\"../lyrics/wizkhalifa/youparty.html\" target=\"_blank\">You Party</a>,\n",
       " <a id=\"51256\"></a>,\n",
       " <a href=\"../lyrics/wizkhalifa/royalhighness.html\" target=\"_blank\">Royal Highness</a>,\n",
       " <a href=\"../lyrics/wizkhalifa/letterman.html\" target=\"_blank\">Letterman</a>,\n",
       " <a href=\"../lyrics/wizkhalifa/figureitout.html\" target=\"_blank\">Figure It Out</a>,\n",
       " <a href=\"../lyrics/wizkhalifa/plane4u.html\" target=\"_blank\">Plane 4 U</a>,\n",
       " <a href=\"../lyrics/wizkhalifa/nodirt.html\" target=\"_blank\">No Dirt</a>,\n",
       " <a href=\"../lyrics/wizkhalifa/longwaytogo.html\" target=\"_blank\">Long Way To Go</a>,\n",
       " <a href=\"../lyrics/wizkhalifa/globalaccess.html\" target=\"_blank\">Global Access</a>,\n",
       " <a href=\"../lyrics/wizkhalifa/cityofsteel.html\" target=\"_blank\">City Of Steel</a>,\n",
       " <a href=\"../lyrics/wizkhalifa/weedfarm.html\" target=\"_blank\">Weed Farm</a>,\n",
       " <a href=\"../lyrics/wizkhalifa/stayfocused.html\" target=\"_blank\">Stay Focused</a>,\n",
       " <a id=\"59561\"></a>,\n",
       " <a href=\"../lyrics/wizkhalifa/hotnow.html\" target=\"_blank\">Hot Now</a>,\n",
       " <a href=\"../lyrics/wizkhalifa/ocean.html\" target=\"_blank\">Ocean</a>,\n",
       " <a href=\"../lyrics/wizkhalifa/bluehunnids.html\" target=\"_blank\">Blue Hunnids</a>,\n",
       " <a href=\"../lyrics/wizkhalifa/veryspecial.html\" target=\"_blank\">Very Special</a>,\n",
       " <a href=\"../lyrics/wizkhalifa/goinhard.html\" target=\"_blank\">Goin Hard</a>,\n",
       " <a href=\"../lyrics/wizkhalifa/holyfield.html\" target=\"_blank\">Holyfield</a>,\n",
       " <a href=\"../lyrics/wizkhalifa/rollingpapers2.html\" target=\"_blank\">Rolling Papers 2</a>,\n",
       " <a href=\"../lyrics/wizkhalifa/mrwilliamswhereisthelove.html\" target=\"_blank\">Mr. Williams / Where Is The Love</a>,\n",
       " <a href=\"../lyrics/wizkhalifa/penthouse.html\" target=\"_blank\">Penthouse</a>,\n",
       " <a href=\"../lyrics/wizkhalifa/realrich.html\" target=\"_blank\">Real Rich</a>,\n",
       " <a href=\"../lyrics/wizkhalifa/bootsybellows.html\" target=\"_blank\">Bootsy Bellows</a>,\n",
       " <a href=\"../lyrics/wizkhalifa/hopelessromantic.html\" target=\"_blank\">Hopeless Romantic</a>,\n",
       " <a href=\"../lyrics/wizkhalifa/latenightmessages.html\" target=\"_blank\">Late Night Messages</a>,\n",
       " <a href=\"../lyrics/wizkhalifa/rain.html\" target=\"_blank\">Rain</a>,\n",
       " <a href=\"../lyrics/wizkhalifa/karateneverhesitate.html\" target=\"_blank\">Karate / Never Hesitate</a>,\n",
       " <a href=\"../lyrics/wizkhalifa/frfr.html\" target=\"_blank\">Fr Fr</a>,\n",
       " <a href=\"../lyrics/wizkhalifa/king.html\" target=\"_blank\">King</a>,\n",
       " <a href=\"../lyrics/wizkhalifa/ginanddrugs.html\" target=\"_blank\">Gin And Drugs</a>,\n",
       " <a href=\"../lyrics/wizkhalifa/420freestyle.html\" target=\"_blank\">420 Freestyle</a>,\n",
       " <a href=\"../lyrics/wizkhalifa/bok.html\" target=\"_blank\">B Ok</a>,\n",
       " <a href=\"../lyrics/wizkhalifa/itsonyou.html\" target=\"_blank\">It's On You</a>,\n",
       " <a href=\"../lyrics/wizkhalifa/reachforthestars.html\" target=\"_blank\">Reach For The Stars</a>,\n",
       " <a href=\"../lyrics/wizkhalifa/allofasudden.html\" target=\"_blank\">All Of A Sudden</a>,\n",
       " <a href=\"../lyrics/wizkhalifa/homework.html\" target=\"_blank\">Homework</a>,\n",
       " <a href=\"../lyrics/wizkhalifa/somethingnew.html\" target=\"_blank\">Something New</a>,\n",
       " <a href=\"../lyrics/wizkhalifa/airborn.html\" target=\"_blank\">Air Born</a>,\n",
       " <a href=\"../lyrics/wizkhalifa/allday.html\" target=\"_blank\">All Day</a>,\n",
       " <a href=\"http://www.azlyrics.com/lyrics/juicyj/alwayshigh.html\" target=\"_blank\">Always High</a>,\n",
       " <a href=\"../lyrics/wizkhalifa/atlfreestyle.html\" target=\"_blank\">ATL Freestyle</a>,\n",
       " <a href=\"../lyrics/wizkhalifa/badinfluence.html\" target=\"_blank\">Bad Influence</a>,\n",
       " <a href=\"../lyrics/wizkhalifa/ballinfreestyle.html\" target=\"_blank\">Ballin Freestyle</a>,\n",
       " <a href=\"../lyrics/wizkhalifa/bestlife.html\" target=\"_blank\">Best Life</a>,\n",
       " <a href=\"../lyrics/wizkhalifa/bigscreen.html\" target=\"_blank\">Big Screen</a>,\n",
       " <a href=\"../lyrics/wizkhalifa/blackandyellowgmix.html\" target=\"_blank\">Black And Yellow (G-Mix)</a>,\n",
       " <a href=\"../lyrics/wizkhalifa/blackandyellowremix.html\" target=\"_blank\">Black And Yellow (Remix)</a>,\n",
       " <a href=\"../lyrics/wizkhalifa/bombaylemonade.html\" target=\"_blank\">Bombay &amp; Lemonade</a>,\n",
       " <a href=\"../lyrics/wizkhalifa/boss.html\" target=\"_blank\">Boss</a>,\n",
       " <a href=\"http://www.azlyrics.com/lyrics/tydollasign/brandnew.html\" target=\"_blank\">Brand New</a>,\n",
       " <a href=\"../lyrics/wizkhalifa/breaks.html\" target=\"_blank\">Breaks</a>,\n",
       " <a href=\"../lyrics/wizkhalifa/burnslow.html\" target=\"_blank\">Burn Slow</a>,\n",
       " <a href=\"../lyrics/wizkhalifa/cantbestopped.html\" target=\"_blank\">Can't Be Stopped</a>,\n",
       " <a href=\"../lyrics/wizkhalifa/cantwait.html\" target=\"_blank\">Can't Wait</a>,\n",
       " <a href=\"../lyrics/wizkhalifa/captain.html\" target=\"_blank\">Captain</a>,\n",
       " <a href=\"../lyrics/wizkhalifa/captainremix.html\" target=\"_blank\">Captain (Remix)</a>,\n",
       " <a href=\"../lyrics/wizkhalifa/change.html\" target=\"_blank\">Change</a>,\n",
       " <a href=\"../lyrics/wizkhalifa/chuck.html\" target=\"_blank\">Chuck</a>,\n",
       " <a href=\"http://www.azlyrics.com/lyrics/chainsmokers/closerwizkhalifaremix.html\" target=\"_blank\">Closer (Remix)</a>,\n",
       " <a href=\"../lyrics/wizkhalifa/coachella.html\" target=\"_blank\">Coachella</a>,\n",
       " <a href=\"../lyrics/wizkhalifa/commentcreepin.html\" target=\"_blank\">Comment Creepin</a>,\n",
       " <a href=\"../lyrics/wizkhalifa/damnitfeelsgoodtobeataylor.html\" target=\"_blank\">Damn It Feels Good To Be A Taylor</a>,\n",
       " <a href=\"../lyrics/wizkhalifa/decisions.html\" target=\"_blank\">Decisions</a>,\n",
       " <a href=\"../lyrics/wizkhalifa/dessertbaitfreestyle.html\" target=\"_blank\">Dessert (Bait Freestyle)</a>,\n",
       " <a href=\"../lyrics/wizkhalifa/dontliefreestyle.html\" target=\"_blank\">Don't Lie (Freestyle)</a>,\n",
       " <a href=\"../lyrics/wizkhalifa/dotdotdot.html\" target=\"_blank\">Dot Dot Dot</a>,\n",
       " <a href=\"../lyrics/wizkhalifa/doublevisionremix.html\" target=\"_blank\">Double Vision (Remix)</a>,\n",
       " <a href=\"../lyrics/wizkhalifa/dutycalls.html\" target=\"_blank\">Duty Calls</a>,\n",
       " <a href=\"../lyrics/wizkhalifa/electricrelaxation.html\" target=\"_blank\">Electric Relaxation</a>,\n",
       " <a href=\"../lyrics/wizkhalifa/exitrow.html\" target=\"_blank\">Exit Row</a>,\n",
       " <a href=\"../lyrics/wizkhalifa/exitrowremix.html\" target=\"_blank\">Exit Row (Remix)</a>,\n",
       " <a href=\"../lyrics/wizkhalifa/ezwiderwithhash.html\" target=\"_blank\">EZ Wider With Hash</a>,\n",
       " <a href=\"../lyrics/wizkhalifa/fanstakinpictures.html\" target=\"_blank\">Fans Takin Pictures</a>,\n",
       " <a href=\"../lyrics/wizkhalifa/farfromcoach.html\" target=\"_blank\">Far From Coach</a>,\n",
       " <a href=\"http://www.azlyrics.com/lyrics/juicyj/feelingfaded.html\" target=\"_blank\">Feeling Faded</a>,\n",
       " <a href=\"../lyrics/wizkhalifa/flowers.html\" target=\"_blank\">Flowers</a>,\n",
       " <a href=\"../lyrics/wizkhalifa/flyyou.html\" target=\"_blank\">Fly You</a>,\n",
       " <a href=\"../lyrics/wizkhalifa/formore.html\" target=\"_blank\">For More</a>,\n",
       " <a href=\"../lyrics/wizkhalifa/freakybefore.html\" target=\"_blank\">Freaky Before</a>,\n",
       " <a href=\"../lyrics/wizkhalifa/gshyt.html\" target=\"_blank\">G Shyt</a>,\n",
       " <a href=\"../lyrics/wizkhalifa/gdup.html\" target=\"_blank\">G'd Up</a>,\n",
       " <a href=\"../lyrics/wizkhalifa/gfu.html\" target=\"_blank\">G.F.U.</a>,\n",
       " <a href=\"../lyrics/wizkhalifa/ganggang.html\" target=\"_blank\">Gang Gang</a>,\n",
       " <a href=\"http://www.azlyrics.com/lyrics/pnbrock/gangup.html\" target=\"_blank\">Gang Up</a>,\n",
       " <a href=\"../lyrics/wizkhalifa/getitonyourown.html\" target=\"_blank\">Get It On Your Own</a>,\n",
       " <a href=\"../lyrics/wizkhalifa/gindrugs.html\" target=\"_blank\">Gin &amp; Drugs</a>,\n",
       " <a href=\"../lyrics/wizkhalifa/gohardorgohome.html\" target=\"_blank\">Go Hard Or Go Home</a>,\n",
       " <a href=\"../lyrics/wizkhalifa/gohardorgohomepart2.html\" target=\"_blank\">Go Hard Or Go Home (Part 2)</a>,\n",
       " <a href=\"../lyrics/wizkhalifa/goodforus.html\" target=\"_blank\">Good For Us</a>,\n",
       " <a href=\"../lyrics/wizkhalifa/gotmesomemore.html\" target=\"_blank\">Got Me Some More</a>,\n",
       " <a href=\"../lyrics/wizkhalifa/gucciashtray.html\" target=\"_blank\">Gucci Ashtray</a>,\n",
       " <a href=\"../lyrics/wizkhalifa/hellaosfreestyle.html\" target=\"_blank\">Hella O's (Freestyle)</a>,\n",
       " <a href=\"../lyrics/wizkhalifa/heygirl.html\" target=\"_blank\">Hey Girl</a>,\n",
       " <a href=\"../lyrics/wizkhalifa/homicideremix.html\" target=\"_blank\">Homicide (Remix)</a>,\n",
       " <a href=\"../lyrics/wizkhalifa/hot97freestyle.html\" target=\"_blank\">Hot 97 Freestyle</a>,\n",
       " <a href=\"../lyrics/wizkhalifa/hunnidbands.html\" target=\"_blank\">Hunnid Bands</a>,\n",
       " <a href=\"../lyrics/wizkhalifa/hustlehard.html\" target=\"_blank\">Hustle Hard</a>,\n",
       " <a href=\"http://www.azlyrics.com/lyrics/ghostfacekillah/igohard.html\" target=\"_blank\">I Go Hard</a>,\n",
       " <a href=\"../lyrics/wizkhalifa/imthatnigga.html\" target=\"_blank\">I'm That Nigga</a>,\n",
       " <a href=\"../lyrics/wizkhalifa/intheair.html\" target=\"_blank\">In The Air</a>,\n",
       " <a href=\"../lyrics/wizkhalifa/incompatible.html\" target=\"_blank\">Incompatible</a>,\n",
       " <a href=\"../lyrics/wizkhalifa/isaachayes.html\" target=\"_blank\">Isaac Hayes</a>,\n",
       " <a href=\"../lyrics/wizkhalifa/keepthelies.html\" target=\"_blank\">Keep The Lies</a>,\n",
       " <a href=\"../lyrics/wizkhalifa/kingofeverything.html\" target=\"_blank\">King Of Everything</a>,\n",
       " <a href=\"../lyrics/wizkhalifa/knowyourname.html\" target=\"_blank\">Know Your Name</a>,\n",
       " <a href=\"../lyrics/wizkhalifa/lookintomyeyes.html\" target=\"_blank\">Look Into My Eyes</a>,\n",
       " <a href=\"../lyrics/wizkhalifa/lookwhatigoton.html\" target=\"_blank\">Look What I Got On</a>,\n",
       " <a href=\"../lyrics/wizkhalifa/maanweedmix.html\" target=\"_blank\">Maan! (Weedmix)</a>,\n",
       " <a href=\"../lyrics/wizkhalifa/makeithot.html\" target=\"_blank\">Make It Hot</a>,\n",
       " <a href=\"../lyrics/wizkhalifa/mismatch.html\" target=\"_blank\">Mismatch</a>,\n",
       " <a href=\"../lyrics/wizkhalifa/moreandmore.html\" target=\"_blank\">More And More</a>,\n",
       " <a href=\"../lyrics/wizkhalifa/mything.html\" target=\"_blank\">My Thing</a>,\n",
       " <a href=\"../lyrics/wizkhalifa/nofighting.html\" target=\"_blank\">No Fighting</a>,\n",
       " <a href=\"../lyrics/wizkhalifa/nosocialmedia.html\" target=\"_blank\">No Social Media</a>,\n",
       " <a href=\"../lyrics/wizkhalifa/ottr.html\" target=\"_blank\">O.T.T.R.</a>,\n",
       " <a href=\"../lyrics/wizkhalifa/onespliff.html\" target=\"_blank\">One Spliff</a>,\n",
       " <a href=\"../lyrics/wizkhalifa/papercallin.html\" target=\"_blank\">Paper Callin'</a>,\n",
       " <a href=\"../lyrics/wizkhalifa/passitpassionfruitweedmix.html\" target=\"_blank\">Passit (Passion Fruit Weedmix)</a>,\n",
       " <a href=\"../lyrics/wizkhalifa/peoplehousepartyfreestyle.html\" target=\"_blank\">People (House Party Freestyle)</a>,\n",
       " <a href=\"../lyrics/wizkhalifa/playfair.html\" target=\"_blank\">Play Fair</a>,\n",
       " <a href=\"../lyrics/wizkhalifa/princeofthecityfreestyle.html\" target=\"_blank\">Prince Of The City Freestyle</a>,\n",
       " <a href=\"../lyrics/wizkhalifa/proceed.html\" target=\"_blank\">Proceed</a>,\n",
       " <a href=\"../lyrics/wizkhalifa/pullup.html\" target=\"_blank\">Pull Up</a>,\n",
       " <a href=\"../lyrics/wizkhalifa/pullupwithazipwizkhalifaremix.html\" target=\"_blank\">Pull Up With A Zip (Wiz Khalifa Remix)</a>,\n",
       " <a href=\"../lyrics/wizkhalifa/purpandyellow.html\" target=\"_blank\">Purp And Yellow</a>,\n",
       " <a href=\"../lyrics/wizkhalifa/radio.html\" target=\"_blank\">Radio</a>,\n",
       " <a href=\"../lyrics/wizkhalifa/reeferparty.html\" target=\"_blank\">Reefer Party</a>,\n",
       " <a href=\"../lyrics/wizkhalifa/richpeople.html\" target=\"_blank\">Rich People</a>,\n",
       " <a href=\"../lyrics/wizkhalifa/sayyeah.html\" target=\"_blank\">Say Yeah</a>,\n",
       " <a href=\"../lyrics/wizkhalifa/seeyouagain.html\" target=\"_blank\">See You Again</a>,\n",
       " <a href=\"../lyrics/wizkhalifa/seeyouagainremix.html\" target=\"_blank\">See You Again (Remix)</a>,\n",
       " <a href=\"../lyrics/wizkhalifa/selftitled.html\" target=\"_blank\">Self Titled</a>,\n",
       " <a href=\"http://www.azlyrics.com/lyrics/curreny/situations.html\" target=\"_blank\">Situations</a>,\n",
       " <a href=\"../lyrics/wizkhalifa/smokechambers.html\" target=\"_blank\">Smoke Chambers</a>,\n",
       " <a href=\"../lyrics/wizkhalifa/smokerface.html\" target=\"_blank\">Smoker Face</a>,\n",
       " <a href=\"../lyrics/wizkhalifa/staystonedredboneweedmix.html\" target=\"_blank\">Stay Stoned (Redbone Weedmix)</a>,\n",
       " <a href=\"../lyrics/wizkhalifa/steamroom.html\" target=\"_blank\">Steam Room</a>,\n",
       " <a href=\"../lyrics/wizkhalifa/stoned.html\" target=\"_blank\">Stoned</a>,\n",
       " <a href=\"../lyrics/wizkhalifa/strangerthings.html\" target=\"_blank\">Stranger Things</a>,\n",
       " <a href=\"../lyrics/wizkhalifa/stuntn.html\" target=\"_blank\">Stunt'n</a>,\n",
       " <a href=\"http://www.azlyrics.com/lyrics/lilwayne/suckerforpain.html\" target=\"_blank\">Sucker For Pain</a>,\n",
       " <a href=\"http://www.azlyrics.com/lyrics/tydollasign/takeitthere.html\" target=\"_blank\">Take It There</a>,\n",
       " <a href=\"../lyrics/wizkhalifa/talktome.html\" target=\"_blank\">Talk To Me</a>,\n",
       " <a href=\"../lyrics/wizkhalifa/telescope.html\" target=\"_blank\">Telescope</a>,\n",
       " <a href=\"../lyrics/wizkhalifa/thelife.html\" target=\"_blank\">The Life</a>,\n",
       " <a href=\"../lyrics/wizkhalifa/theplay.html\" target=\"_blank\">The Play</a>,\n",
       " <a href=\"../lyrics/wizkhalifa/thrown.html\" target=\"_blank\">Thrown</a>,\n",
       " <a href=\"../lyrics/wizkhalifa/trapphone.html\" target=\"_blank\">Trap Phone</a>,\n",
       " <a href=\"../lyrics/wizkhalifa/uberdriver.html\" target=\"_blank\">Uber Driver</a>,\n",
       " <a href=\"../lyrics/wizkhalifa/walkwitme.html\" target=\"_blank\">Walk Wit Me</a>,\n",
       " <a href=\"../lyrics/wizkhalifa/washingtonsbyyourside.html\" target=\"_blank\">Washingtons By Your Side</a>,\n",
       " <a href=\"../lyrics/wizkhalifa/wedemboyztygaremix.html\" target=\"_blank\">We Dem Boyz (Tyga Remix)</a>,\n",
       " <a href=\"../lyrics/wizkhalifa/weedbrownies.html\" target=\"_blank\">Weed Brownies</a>,\n",
       " <a href=\"../lyrics/wizkhalifa/weednap.html\" target=\"_blank\">Weed Nap</a>,\n",
       " <a href=\"../lyrics/wizkhalifa/whatstheplay.html\" target=\"_blank\">What's The Play</a>,\n",
       " <a href=\"../lyrics/wizkhalifa/whipitaround.html\" target=\"_blank\">Whip It Around</a>,\n",
       " <a href=\"../lyrics/wizkhalifa/whorunitfreestyle.html\" target=\"_blank\">Who Run It Freestyle</a>,\n",
       " <a href=\"../lyrics/wizkhalifa/whouare.html\" target=\"_blank\">Who U Are</a>,\n",
       " <a href=\"../lyrics/wizkhalifa/witthekids.html\" target=\"_blank\">Wit The Kids</a>,\n",
       " <a href=\"../lyrics/wizkhalifa/workhardplayhardremix.html\" target=\"_blank\">Work Hard, Play Hard (Remix)</a>,\n",
       " <a href=\"../lyrics/wizkhalifa/you.html\" target=\"_blank\">You</a>,\n",
       " <a href=\"http://www.azlyrics.com/lyrics/curreny/youinmind.html\" target=\"_blank\">You In Mind</a>,\n",
       " <a href=\"../lyrics/wizkhalifa/youngwildandfreekonglomeratecoverremix.html\" target=\"_blank\">Young, Wild And Free (Konglomerate Cover Remix)</a>,\n",
       " <a href=\"../lyrics/wizkhalifa/younginonhisgrind.html\" target=\"_blank\">Youngin' On His Grind</a>]"
      ]
     },
     "execution_count": 9,
     "metadata": {},
     "output_type": "execute_result"
    }
   ],
   "source": [
    "album = albums[0]\n",
    "album.findNextSiblings('a')"
   ]
  },
  {
   "cell_type": "markdown",
   "metadata": {},
   "source": [
    "See anything we can use to seperate the songs out by album?!  \n",
    "\n",
    "One option is those \"id\" tags...the web page appears to be structured to have one of these at the end of a song list for a particular album.\n",
    "\n",
    "A second option would be to look at all of the previous song titles from the next album. Then all of the songs that were both after the first album and before the second album would be those that we're after!\n",
    "\n",
    "To be difficult, I'll choose the second method to demonstrate. I'll leave the other option for you as a challenge to practice on.\n",
    "\n",
    "This should also show you that web scraping can be messy, interactive and explorative; its often a process of analyzing a page, finding structure that you can leverage and iterating to retrieve the information you're after."
   ]
  },
  {
   "cell_type": "code",
   "execution_count": 12,
   "metadata": {},
   "outputs": [
    {
     "data": {
      "text/plain": [
       "[('Pittsburgh Sound (All In My Blood)',\n",
       "  '../lyrics/wizkhalifa/pittsburghsoundallinmyblood.html',\n",
       "  'album: \"Show And Prove\" (2006)'),\n",
       " ('Bout Mine',\n",
       "  '../lyrics/wizkhalifa/boutmine.html',\n",
       "  'album: \"Show And Prove\" (2006)')]"
      ]
     },
     "execution_count": 12,
     "metadata": {},
     "output_type": "execute_result"
    }
   ],
   "source": [
    "data = [] #Create a storage container\n",
    "for album_n in range(len(albums)):\n",
    "    #On the last album, we won't be able to look forward\n",
    "    if album_n == len(albums)-1:\n",
    "        cur_album = albums[album_n]\n",
    "        album_songs = cur_album.findNextSiblings('a')\n",
    "        for song in album_songs:\n",
    "            page = song.get('href')\n",
    "            title = song.text\n",
    "            album = cur_album.text\n",
    "            data.append((title, page, album))\n",
    "    else:\n",
    "        cur_album = albums[album_n]\n",
    "        next_album = albums[album_n+1]\n",
    "        saca = cur_album.findNextSiblings('a') #songs after current album\n",
    "        sbna = next_album.findPreviousSiblings('a') #songs before next album\n",
    "        album_songs = [song for song in saca if song in sbna] #album songs are those listed after the current album but before the next one!\n",
    "        for song in album_songs:\n",
    "            page = song.get('href')\n",
    "            title = song.text\n",
    "            album = cur_album.text\n",
    "            data.append((title, page, album))\n",
    "data[:2]"
   ]
  },
  {
   "cell_type": "code",
   "execution_count": 13,
   "metadata": {},
   "outputs": [
    {
     "name": "stdout",
     "output_type": "stream",
     "text": [
      "491 3\n"
     ]
    }
   ],
   "source": [
    "print(len(data), len(data[0]))"
   ]
  },
  {
   "cell_type": "markdown",
   "metadata": {},
   "source": [
    "### Storing Elements\n",
    "Let's start to clean everything up. To start let's create a Pandas DataFrame; a spreadsheet object similar to those from Microsoft Excel."
   ]
  },
  {
   "cell_type": "code",
   "execution_count": 14,
   "metadata": {},
   "outputs": [
    {
     "name": "stdout",
     "output_type": "stream",
     "text": [
      "491\n"
     ]
    },
    {
     "data": {
      "text/html": [
       "<div>\n",
       "<style scoped>\n",
       "    .dataframe tbody tr th:only-of-type {\n",
       "        vertical-align: middle;\n",
       "    }\n",
       "\n",
       "    .dataframe tbody tr th {\n",
       "        vertical-align: top;\n",
       "    }\n",
       "\n",
       "    .dataframe thead th {\n",
       "        text-align: right;\n",
       "    }\n",
       "</style>\n",
       "<table border=\"1\" class=\"dataframe\">\n",
       "  <thead>\n",
       "    <tr style=\"text-align: right;\">\n",
       "      <th></th>\n",
       "      <th>Song</th>\n",
       "      <th>Url_ext</th>\n",
       "      <th>Album</th>\n",
       "    </tr>\n",
       "  </thead>\n",
       "  <tbody>\n",
       "    <tr>\n",
       "      <th>0</th>\n",
       "      <td>Pittsburgh Sound (All In My Blood)</td>\n",
       "      <td>../lyrics/wizkhalifa/pittsburghsoundallinmyblo...</td>\n",
       "      <td>album: \"Show And Prove\" (2006)</td>\n",
       "    </tr>\n",
       "    <tr>\n",
       "      <th>1</th>\n",
       "      <td>Bout Mine</td>\n",
       "      <td>../lyrics/wizkhalifa/boutmine.html</td>\n",
       "      <td>album: \"Show And Prove\" (2006)</td>\n",
       "    </tr>\n",
       "    <tr>\n",
       "      <th>2</th>\n",
       "      <td>I Choose You</td>\n",
       "      <td>../lyrics/wizkhalifa/ichooseyou.html</td>\n",
       "      <td>album: \"Show And Prove\" (2006)</td>\n",
       "    </tr>\n",
       "    <tr>\n",
       "      <th>3</th>\n",
       "      <td>Damn Thing</td>\n",
       "      <td>../lyrics/wizkhalifa/damnthing.html</td>\n",
       "      <td>album: \"Show And Prove\" (2006)</td>\n",
       "    </tr>\n",
       "    <tr>\n",
       "      <th>4</th>\n",
       "      <td>Keep The Conversation</td>\n",
       "      <td>../lyrics/wizkhalifa/keeptheconversation.html</td>\n",
       "      <td>album: \"Show And Prove\" (2006)</td>\n",
       "    </tr>\n",
       "  </tbody>\n",
       "</table>\n",
       "</div>"
      ],
      "text/plain": [
       "                                 Song  \\\n",
       "0  Pittsburgh Sound (All In My Blood)   \n",
       "1                           Bout Mine   \n",
       "2                        I Choose You   \n",
       "3                          Damn Thing   \n",
       "4               Keep The Conversation   \n",
       "\n",
       "                                             Url_ext  \\\n",
       "0  ../lyrics/wizkhalifa/pittsburghsoundallinmyblo...   \n",
       "1                 ../lyrics/wizkhalifa/boutmine.html   \n",
       "2               ../lyrics/wizkhalifa/ichooseyou.html   \n",
       "3                ../lyrics/wizkhalifa/damnthing.html   \n",
       "4      ../lyrics/wizkhalifa/keeptheconversation.html   \n",
       "\n",
       "                            Album  \n",
       "0  album: \"Show And Prove\" (2006)  \n",
       "1  album: \"Show And Prove\" (2006)  \n",
       "2  album: \"Show And Prove\" (2006)  \n",
       "3  album: \"Show And Prove\" (2006)  \n",
       "4  album: \"Show And Prove\" (2006)  "
      ]
     },
     "execution_count": 14,
     "metadata": {},
     "output_type": "execute_result"
    }
   ],
   "source": [
    "df = pd.DataFrame(data) #Create a DataFrame from the data\n",
    "print(len(df)) #See how long the dataset is (number of rows)\n",
    "df.columns = ['Song', 'Url_ext', 'Album']\n",
    "df.head() #Preview the DataFrame (default is first 5 rows) "
   ]
  },
  {
   "cell_type": "markdown",
   "metadata": {},
   "source": [
    "### Cleaning Elements\n",
    "\n",
    "Here's where your knowledge of string methods will come in super handy! You can also use more complex selection rules with Regular Expressions using the re package. See https://docs.python.org/3/library/re.html for more details!"
   ]
  },
  {
   "cell_type": "code",
   "execution_count": 15,
   "metadata": {},
   "outputs": [
    {
     "data": {
      "text/html": [
       "<div>\n",
       "<style scoped>\n",
       "    .dataframe tbody tr th:only-of-type {\n",
       "        vertical-align: middle;\n",
       "    }\n",
       "\n",
       "    .dataframe tbody tr th {\n",
       "        vertical-align: top;\n",
       "    }\n",
       "\n",
       "    .dataframe thead th {\n",
       "        text-align: right;\n",
       "    }\n",
       "</style>\n",
       "<table border=\"1\" class=\"dataframe\">\n",
       "  <thead>\n",
       "    <tr style=\"text-align: right;\">\n",
       "      <th></th>\n",
       "      <th>Song</th>\n",
       "      <th>Url_ext</th>\n",
       "      <th>Album</th>\n",
       "    </tr>\n",
       "  </thead>\n",
       "  <tbody>\n",
       "    <tr>\n",
       "      <th>0</th>\n",
       "      <td>Pittsburgh Sound (All In My Blood)</td>\n",
       "      <td>../lyrics/wizkhalifa/pittsburghsoundallinmyblo...</td>\n",
       "      <td>\"Show And Prove\" (2006)</td>\n",
       "    </tr>\n",
       "    <tr>\n",
       "      <th>1</th>\n",
       "      <td>Bout Mine</td>\n",
       "      <td>../lyrics/wizkhalifa/boutmine.html</td>\n",
       "      <td>\"Show And Prove\" (2006)</td>\n",
       "    </tr>\n",
       "    <tr>\n",
       "      <th>2</th>\n",
       "      <td>I Choose You</td>\n",
       "      <td>../lyrics/wizkhalifa/ichooseyou.html</td>\n",
       "      <td>\"Show And Prove\" (2006)</td>\n",
       "    </tr>\n",
       "    <tr>\n",
       "      <th>3</th>\n",
       "      <td>Damn Thing</td>\n",
       "      <td>../lyrics/wizkhalifa/damnthing.html</td>\n",
       "      <td>\"Show And Prove\" (2006)</td>\n",
       "    </tr>\n",
       "    <tr>\n",
       "      <th>4</th>\n",
       "      <td>Keep The Conversation</td>\n",
       "      <td>../lyrics/wizkhalifa/keeptheconversation.html</td>\n",
       "      <td>\"Show And Prove\" (2006)</td>\n",
       "    </tr>\n",
       "  </tbody>\n",
       "</table>\n",
       "</div>"
      ],
      "text/plain": [
       "                                 Song  \\\n",
       "0  Pittsburgh Sound (All In My Blood)   \n",
       "1                           Bout Mine   \n",
       "2                        I Choose You   \n",
       "3                          Damn Thing   \n",
       "4               Keep The Conversation   \n",
       "\n",
       "                                             Url_ext                     Album  \n",
       "0  ../lyrics/wizkhalifa/pittsburghsoundallinmyblo...   \"Show And Prove\" (2006)  \n",
       "1                 ../lyrics/wizkhalifa/boutmine.html   \"Show And Prove\" (2006)  \n",
       "2               ../lyrics/wizkhalifa/ichooseyou.html   \"Show And Prove\" (2006)  \n",
       "3                ../lyrics/wizkhalifa/damnthing.html   \"Show And Prove\" (2006)  \n",
       "4      ../lyrics/wizkhalifa/keeptheconversation.html   \"Show And Prove\" (2006)  "
      ]
     },
     "execution_count": 15,
     "metadata": {},
     "output_type": "execute_result"
    }
   ],
   "source": [
    "df['Album'] = df['Album'].map(lambda x: x.strip('album:')) #remove the initial \"album:\". Hopefully none of the actual names contain that!!\n",
    "df.head() #Preview updated results"
   ]
  },
  {
   "cell_type": "code",
   "execution_count": 16,
   "metadata": {},
   "outputs": [
    {
     "data": {
      "text/html": [
       "<div>\n",
       "<style scoped>\n",
       "    .dataframe tbody tr th:only-of-type {\n",
       "        vertical-align: middle;\n",
       "    }\n",
       "\n",
       "    .dataframe tbody tr th {\n",
       "        vertical-align: top;\n",
       "    }\n",
       "\n",
       "    .dataframe thead th {\n",
       "        text-align: right;\n",
       "    }\n",
       "</style>\n",
       "<table border=\"1\" class=\"dataframe\">\n",
       "  <thead>\n",
       "    <tr style=\"text-align: right;\">\n",
       "      <th></th>\n",
       "      <th>Song</th>\n",
       "      <th>Url_ext</th>\n",
       "      <th>Album</th>\n",
       "      <th>Year</th>\n",
       "    </tr>\n",
       "  </thead>\n",
       "  <tbody>\n",
       "    <tr>\n",
       "      <th>0</th>\n",
       "      <td>Pittsburgh Sound (All In My Blood)</td>\n",
       "      <td>../lyrics/wizkhalifa/pittsburghsoundallinmyblo...</td>\n",
       "      <td>\"Show And Prove\" (2006)</td>\n",
       "      <td>2006</td>\n",
       "    </tr>\n",
       "    <tr>\n",
       "      <th>1</th>\n",
       "      <td>Bout Mine</td>\n",
       "      <td>../lyrics/wizkhalifa/boutmine.html</td>\n",
       "      <td>\"Show And Prove\" (2006)</td>\n",
       "      <td>2006</td>\n",
       "    </tr>\n",
       "    <tr>\n",
       "      <th>2</th>\n",
       "      <td>I Choose You</td>\n",
       "      <td>../lyrics/wizkhalifa/ichooseyou.html</td>\n",
       "      <td>\"Show And Prove\" (2006)</td>\n",
       "      <td>2006</td>\n",
       "    </tr>\n",
       "    <tr>\n",
       "      <th>3</th>\n",
       "      <td>Damn Thing</td>\n",
       "      <td>../lyrics/wizkhalifa/damnthing.html</td>\n",
       "      <td>\"Show And Prove\" (2006)</td>\n",
       "      <td>2006</td>\n",
       "    </tr>\n",
       "    <tr>\n",
       "      <th>4</th>\n",
       "      <td>Keep The Conversation</td>\n",
       "      <td>../lyrics/wizkhalifa/keeptheconversation.html</td>\n",
       "      <td>\"Show And Prove\" (2006)</td>\n",
       "      <td>2006</td>\n",
       "    </tr>\n",
       "  </tbody>\n",
       "</table>\n",
       "</div>"
      ],
      "text/plain": [
       "                                 Song  \\\n",
       "0  Pittsburgh Sound (All In My Blood)   \n",
       "1                           Bout Mine   \n",
       "2                        I Choose You   \n",
       "3                          Damn Thing   \n",
       "4               Keep The Conversation   \n",
       "\n",
       "                                             Url_ext  \\\n",
       "0  ../lyrics/wizkhalifa/pittsburghsoundallinmyblo...   \n",
       "1                 ../lyrics/wizkhalifa/boutmine.html   \n",
       "2               ../lyrics/wizkhalifa/ichooseyou.html   \n",
       "3                ../lyrics/wizkhalifa/damnthing.html   \n",
       "4      ../lyrics/wizkhalifa/keeptheconversation.html   \n",
       "\n",
       "                      Album  Year  \n",
       "0   \"Show And Prove\" (2006)  2006  \n",
       "1   \"Show And Prove\" (2006)  2006  \n",
       "2   \"Show And Prove\" (2006)  2006  \n",
       "3   \"Show And Prove\" (2006)  2006  \n",
       "4   \"Show And Prove\" (2006)  2006  "
      ]
     },
     "execution_count": 16,
     "metadata": {},
     "output_type": "execute_result"
    }
   ],
   "source": [
    "def extract_year(album_title):\n",
    "    try:\n",
    "        return re.findall('[(](\\d\\d\\d\\d)[)]', album_title)[0]\n",
    "    except:\n",
    "        return 'Unknown'\n",
    "df['Year'] = df['Album'].map(extract_year)\n",
    "df.head()"
   ]
  },
  {
   "cell_type": "markdown",
   "metadata": {},
   "source": [
    "### Visualizing Results\n",
    "How many songs do we have for each album?"
   ]
  },
  {
   "cell_type": "code",
   "execution_count": 17,
   "metadata": {},
   "outputs": [],
   "source": [
    "%matplotlib inline \n",
    "#this allows us to use Pandas built in graphing within the notebook"
   ]
  },
  {
   "cell_type": "code",
   "execution_count": 18,
   "metadata": {},
   "outputs": [
    {
     "data": {
      "text/plain": [
       "other songs                                                          127\n",
       "ixtape: \"28 Grams\" (2014)                                             29\n",
       " \"Rolling Papers 2\" (2018)                                            25\n",
       "ixtape: \"Flight School\" (2009)                                        23\n",
       "ixtape: \"Kush And Orange Juice\" (2010)                                21\n",
       "ixtape: \"Burn After Rolling\" (2009)                                   20\n",
       "ixtape: \"Taylor Allderdice\" (2012)                                    18\n",
       "ixtape: \"Star Power\" (2009)                                           18\n",
       " \"Blacc Hollywood\" (2014)                                             17\n",
       " \"Only Nigga In First Class (O.N.I.F.C.)\" (2012)                      17\n",
       " \"TGOD Mafia: Rude Awakening\" (2016)(with JUICY J)                    17\n",
       "ixtape: \"Prince Of The City 2\" (2008)                                 17\n",
       "ixtape: \"Cabin Fever 2\" (2012)                                        15\n",
       " \"Deal Or No Deal\" (2009)                                             15\n",
       "soundtrack: \"Mac & Devin Go To High School\" (2011)(w/ SNOOP DOGG)     15\n",
       " \"Rolling Papers\" (2011)                                              15\n",
       " \"Khalifa\" (2016)                                                     14\n",
       " \"Show And Prove\" (2006)                                              13\n",
       "ixtape: \"The Chronic 2010\" (2010)                                     12\n",
       "ixtape: \"Cabin Fever 3\" (2015)                                        12\n",
       "ixtape: \"Laugh Now, Fly Later\" (2017)                                 11\n",
       "ixtape: \"Cabin Fever\" (2011)                                          10\n",
       "EP: \"Talk About It In The Morning\" (2015)(with TY DOLLA $IGN)          6\n",
       "ixtape: \"O.N.I.F.C. 4 Year Anniversary\" (2016)                         4\n",
       "Name: Album, dtype: int64"
      ]
     },
     "execution_count": 18,
     "metadata": {},
     "output_type": "execute_result"
    }
   ],
   "source": [
    "df.Album.value_counts()"
   ]
  },
  {
   "cell_type": "code",
   "execution_count": 19,
   "metadata": {},
   "outputs": [
    {
     "data": {
      "text/plain": [
       "<matplotlib.axes._subplots.AxesSubplot at 0x1154920f0>"
      ]
     },
     "execution_count": 19,
     "metadata": {},
     "output_type": "execute_result"
    },
    {
     "data": {
      "image/png": "[encoded data removed]",
      "text/plain": [
       "<Figure size 432x288 with 1 Axes>"
      ]
     },
     "metadata": {},
     "output_type": "display_data"
    }
   ],
   "source": [
    "df.Album.value_counts().plot(kind='barh')"
   ]
  },
  {
   "cell_type": "markdown",
   "metadata": {},
   "source": [
    "### Cleaning it up: Adding a Title and Axes\n",
    "Here we import the pyplot class within the matplotlib package.  "
   ]
  },
  {
   "cell_type": "code",
   "execution_count": 20,
   "metadata": {},
   "outputs": [],
   "source": [
    "import matplotlib.pyplot as plt"
   ]
  },
  {
   "cell_type": "code",
   "execution_count": 21,
   "metadata": {},
   "outputs": [
    {
     "data": {
      "text/plain": [
       "Text(0,0.5,'Album Title')"
      ]
     },
     "execution_count": 21,
     "metadata": {},
     "output_type": "execute_result"
    },
    {
     "data": {
      "image/png": "[encoded data removed]",
      "text/plain": [
       "<Figure size 432x288 with 1 Axes>"
      ]
     },
     "metadata": {},
     "output_type": "display_data"
    }
   ],
   "source": [
    "df.Album.value_counts().plot(kind='barh')\n",
    "plt.title('Number of Songs by Album')\n",
    "plt.xlabel('Number of Songs')\n",
    "plt.ylabel('Album Title')"
   ]
  },
  {
   "cell_type": "markdown",
   "metadata": {},
   "source": [
    "### Summary\n",
    "You should now have a brief intro to web scraping! The possabilities are nearly endless with what you can do. That said, not all websites will be thrilled with your new prowess. Surfing the web at super human speeds will get you banned from many domains and may violate the terms & conditions of many websites that require login. As such, there are a few considerations you should take along your way.\n",
    "\n",
    "* Is there a terms and conditions for using the website?\n",
    "* Test your scraping bot on in small samples to debug before scaling to hundreds, thousands or millions of requests.\n",
    "* Start thinking about your IP address: getting blacklisted from a website is no fun. Consider using a VPN.\n",
    "* Slow your bot down! Add delays along the way with the time package. Specifically, time.sleep(seconds) adds wait time in a program."
   ]
  },
  {
   "cell_type": "markdown",
   "metadata": {},
   "source": [
    "### Lab\n",
    "\n",
    "1. Write a function to collect the links to each of the song pages from a given artist page.\n",
    "2. Write a secondary function that scrapes the lyrics for each song page.\n",
    "3. Create a script using your two functions above to scrape all of the song lyrics for a given artist.\n",
    "4. Generate two bar graphs to compare lyrical changes for the artist of your chose. For example, the two bar charts could compare the lyrics for two different songs or two different albums.\n",
    "\n",
    "**Extension:**\n",
    "Think about how you structured the data from your web scraper. Did you scrape the entire song lyrics verbatim? Did you simply store the words and their frequency counts, or did you do something else entirely? List out a few different options for how you could have stored this data. What are advantages and disadvantages of each? Be specific and think about what sort of analyses each representation would lend itself to."
   ]
  },
  {
   "cell_type": "markdown",
   "metadata": {},
   "source": [
    "### Further Resources"
   ]
  },
  {
   "cell_type": "markdown",
   "metadata": {},
   "source": [
    "#### Beatiful Soup - a good go to tool for parsing the DOM\n",
    "https://www.crummy.com/software/BeautifulSoup/?\n",
    "\n",
    "#### Selenium - Browser automation (useful when you need to interact with javascript for more complex scraping)\n",
    "https://www.seleniumhq.org/\n",
    "\n",
    "#### Scrapy - another package for scraping larger datasets at scale\n",
    "https://scrapy.org/"
   ]
  },
  {
   "cell_type": "code",
   "execution_count": null,
   "metadata": {},
   "outputs": [],
   "source": []
  }
 ],
 "metadata": {
  "kernelspec": {
   "display_name": "Python 3",
   "language": "python",
   "name": "python3"
  },
  "language_info": {
   "codemirror_mode": {
    "name": "ipython",
    "version": 3
   },
   "file_extension": ".py",
   "mimetype": "text/x-python",
   "name": "python",
   "nbconvert_exporter": "python",
   "pygments_lexer": "ipython3",
   "version": "3.6.5"
  }
 },
 "nbformat": 4,
 "nbformat_minor": 2
}
